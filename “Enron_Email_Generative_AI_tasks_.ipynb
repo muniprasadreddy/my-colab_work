{
  "cells": [
    {
      "cell_type": "markdown",
      "metadata": {
        "id": "view-in-github",
        "colab_type": "text"
      },
      "source": [
        "<a href=\"https://colab.research.google.com/github/muniprasadreddy/my-colab_work/blob/main/%E2%80%9CEnron_Email_Generative_AI_tasks_.ipynb\" target=\"_parent\"><img src=\"https://colab.research.google.com/assets/colab-badge.svg\" alt=\"Open In Colab\"/></a>"
      ]
    },
    {
      "cell_type": "markdown",
      "metadata": {
        "id": "GJMd9s9WuRmB"
      },
      "source": [
        "## Problem Statement:\n",
        "In this task, you will use the “Enron Email Dataset” to build a system that can either summarize\n",
        "long email threads or generate responses to common emails. The goal is to explore the capabilities\n",
        "of a generative language model to handle everyday email tasksmodel to handle everyday email tasks."
      ]
    },
    {
      "cell_type": "markdown",
      "metadata": {
        "id": "y9NnloxVosSg"
      },
      "source": [
        "**Objective:**\n",
        "• Create a pipeline using a pre-trained language model to perform one of the following tasks:\n",
        "1. Summarize long email threads.\n",
        "2. Generate automated responses to common email types."
      ]
    },
    {
      "cell_type": "markdown",
      "metadata": {
        "id": "VdPUjdgUo4au"
      },
      "source": [
        "# **Dataset Exploration & Preprocessing:**"
      ]
    },
    {
      "cell_type": "markdown",
      "metadata": {
        "id": "LYPEj3_2pMVv"
      },
      "source": [
        "## Import Libraries"
      ]
    },
    {
      "cell_type": "code",
      "execution_count": null,
      "metadata": {
        "colab": {
          "base_uri": "https://localhost:8080/"
        },
        "id": "IHiFqY2wuRL8",
        "outputId": "69c2f0f4-cc61-4646-e322-d2a6501a392b"
      },
      "outputs": [
        {
          "name": "stderr",
          "output_type": "stream",
          "text": [
            "[nltk_data] Downloading package stopwords to /root/nltk_data...\n",
            "[nltk_data]   Package stopwords is already up-to-date!\n",
            "[nltk_data] Downloading package punkt to /root/nltk_data...\n",
            "[nltk_data]   Package punkt is already up-to-date!\n"
          ]
        },
        {
          "data": {
            "text/plain": [
              "True"
            ]
          },
          "execution_count": 36,
          "metadata": {},
          "output_type": "execute_result"
        }
      ],
      "source": [
        "import pandas as pd\n",
        "import csv\n",
        "import re\n",
        "from io import StringIO\n",
        "import email\n",
        "from nltk.corpus import stopwords\n",
        "from nltk.tokenize import word_tokenize\n",
        "import nltk\n",
        "\n",
        "nltk.download('stopwords')\n",
        "nltk.download('punkt')\n"
      ]
    },
    {
      "cell_type": "code",
      "execution_count": null,
      "metadata": {
        "id": "2qFcsdo6rP1R"
      },
      "outputs": [],
      "source": [
        "# import pandas as pd\n",
        "# import csv\n",
        "\n",
        "# # Load dataset\n",
        "# df = pd.read_csv(\"/content/emails.csv\", quoting=csv.QUOTE_NONE, error_bad_lines=False)\n",
        "# # quoting=csv.QUOTE_NONE: Treats all characters as data, ignoring quotes\n",
        "# # error_bad_lines=False: Skips lines that cause parsing errors"
      ]
    },
    {
      "cell_type": "code",
      "execution_count": null,
      "metadata": {
        "id": "W9tSisqyrhm5"
      },
      "outputs": [],
      "source": [
        "\n",
        "# Load dataset\n",
        "df = pd.read_csv(\"/content/emails.csv\", quoting=csv.QUOTE_NONE, on_bad_lines='skip')\n",
        "# quoting=csv.QUOTE_NONE: Treats all characters as data, ignoring quotes\n",
        "# on_bad_lines='skip': Skips lines that cause parsing errors"
      ]
    },
    {
      "cell_type": "code",
      "execution_count": null,
      "metadata": {
        "colab": {
          "base_uri": "https://localhost:8080/",
          "height": 206
        },
        "id": "TKpe4BENp78N",
        "outputId": "64dc046a-53d8-4248-8552-ebe5c1fea974"
      },
      "outputs": [
        {
          "data": {
            "application/vnd.google.colaboratory.intrinsic+json": {
              "type": "dataframe",
              "variable_name": "df"
            },
            "text/html": [
              "\n",
              "  <div id=\"df-8471a37b-fa6e-4da5-9443-230209824700\" class=\"colab-df-container\">\n",
              "    <div>\n",
              "<style scoped>\n",
              "    .dataframe tbody tr th:only-of-type {\n",
              "        vertical-align: middle;\n",
              "    }\n",
              "\n",
              "    .dataframe tbody tr th {\n",
              "        vertical-align: top;\n",
              "    }\n",
              "\n",
              "    .dataframe thead th {\n",
              "        text-align: right;\n",
              "    }\n",
              "</style>\n",
              "<table border=\"1\" class=\"dataframe\">\n",
              "  <thead>\n",
              "    <tr style=\"text-align: right;\">\n",
              "      <th></th>\n",
              "      <th>\"file\"</th>\n",
              "      <th>\"message\"</th>\n",
              "    </tr>\n",
              "  </thead>\n",
              "  <tbody>\n",
              "    <tr>\n",
              "      <th>0</th>\n",
              "      <td>\"allen-p/_sent_mail/1.\"</td>\n",
              "      <td>\"Message-ID: &lt;18782981.1075855378110.JavaMail....</td>\n",
              "    </tr>\n",
              "    <tr>\n",
              "      <th>1</th>\n",
              "      <td>Date: Mon</td>\n",
              "      <td>14 May 2001 16:39:00 -0700 (PDT)</td>\n",
              "    </tr>\n",
              "    <tr>\n",
              "      <th>2</th>\n",
              "      <td>From: phillip.allen@enron.com</td>\n",
              "      <td>NaN</td>\n",
              "    </tr>\n",
              "    <tr>\n",
              "      <th>3</th>\n",
              "      <td>To: tim.belden@enron.com</td>\n",
              "      <td>NaN</td>\n",
              "    </tr>\n",
              "    <tr>\n",
              "      <th>4</th>\n",
              "      <td>Subject:</td>\n",
              "      <td>NaN</td>\n",
              "    </tr>\n",
              "  </tbody>\n",
              "</table>\n",
              "</div>\n",
              "    <div class=\"colab-df-buttons\">\n",
              "\n",
              "  <div class=\"colab-df-container\">\n",
              "    <button class=\"colab-df-convert\" onclick=\"convertToInteractive('df-8471a37b-fa6e-4da5-9443-230209824700')\"\n",
              "            title=\"Convert this dataframe to an interactive table.\"\n",
              "            style=\"display:none;\">\n",
              "\n",
              "  <svg xmlns=\"http://www.w3.org/2000/svg\" height=\"24px\" viewBox=\"0 -960 960 960\">\n",
              "    <path d=\"M120-120v-720h720v720H120Zm60-500h600v-160H180v160Zm220 220h160v-160H400v160Zm0 220h160v-160H400v160ZM180-400h160v-160H180v160Zm440 0h160v-160H620v160ZM180-180h160v-160H180v160Zm440 0h160v-160H620v160Z\"/>\n",
              "  </svg>\n",
              "    </button>\n",
              "\n",
              "  <style>\n",
              "    .colab-df-container {\n",
              "      display:flex;\n",
              "      gap: 12px;\n",
              "    }\n",
              "\n",
              "    .colab-df-convert {\n",
              "      background-color: #E8F0FE;\n",
              "      border: none;\n",
              "      border-radius: 50%;\n",
              "      cursor: pointer;\n",
              "      display: none;\n",
              "      fill: #1967D2;\n",
              "      height: 32px;\n",
              "      padding: 0 0 0 0;\n",
              "      width: 32px;\n",
              "    }\n",
              "\n",
              "    .colab-df-convert:hover {\n",
              "      background-color: #E2EBFA;\n",
              "      box-shadow: 0px 1px 2px rgba(60, 64, 67, 0.3), 0px 1px 3px 1px rgba(60, 64, 67, 0.15);\n",
              "      fill: #174EA6;\n",
              "    }\n",
              "\n",
              "    .colab-df-buttons div {\n",
              "      margin-bottom: 4px;\n",
              "    }\n",
              "\n",
              "    [theme=dark] .colab-df-convert {\n",
              "      background-color: #3B4455;\n",
              "      fill: #D2E3FC;\n",
              "    }\n",
              "\n",
              "    [theme=dark] .colab-df-convert:hover {\n",
              "      background-color: #434B5C;\n",
              "      box-shadow: 0px 1px 3px 1px rgba(0, 0, 0, 0.15);\n",
              "      filter: drop-shadow(0px 1px 2px rgba(0, 0, 0, 0.3));\n",
              "      fill: #FFFFFF;\n",
              "    }\n",
              "  </style>\n",
              "\n",
              "    <script>\n",
              "      const buttonEl =\n",
              "        document.querySelector('#df-8471a37b-fa6e-4da5-9443-230209824700 button.colab-df-convert');\n",
              "      buttonEl.style.display =\n",
              "        google.colab.kernel.accessAllowed ? 'block' : 'none';\n",
              "\n",
              "      async function convertToInteractive(key) {\n",
              "        const element = document.querySelector('#df-8471a37b-fa6e-4da5-9443-230209824700');\n",
              "        const dataTable =\n",
              "          await google.colab.kernel.invokeFunction('convertToInteractive',\n",
              "                                                    [key], {});\n",
              "        if (!dataTable) return;\n",
              "\n",
              "        const docLinkHtml = 'Like what you see? Visit the ' +\n",
              "          '<a target=\"_blank\" href=https://colab.research.google.com/notebooks/data_table.ipynb>data table notebook</a>'\n",
              "          + ' to learn more about interactive tables.';\n",
              "        element.innerHTML = '';\n",
              "        dataTable['output_type'] = 'display_data';\n",
              "        await google.colab.output.renderOutput(dataTable, element);\n",
              "        const docLink = document.createElement('div');\n",
              "        docLink.innerHTML = docLinkHtml;\n",
              "        element.appendChild(docLink);\n",
              "      }\n",
              "    </script>\n",
              "  </div>\n",
              "\n",
              "\n",
              "<div id=\"df-fd4365be-e097-4660-91c7-fb61357066cb\">\n",
              "  <button class=\"colab-df-quickchart\" onclick=\"quickchart('df-fd4365be-e097-4660-91c7-fb61357066cb')\"\n",
              "            title=\"Suggest charts\"\n",
              "            style=\"display:none;\">\n",
              "\n",
              "<svg xmlns=\"http://www.w3.org/2000/svg\" height=\"24px\"viewBox=\"0 0 24 24\"\n",
              "     width=\"24px\">\n",
              "    <g>\n",
              "        <path d=\"M19 3H5c-1.1 0-2 .9-2 2v14c0 1.1.9 2 2 2h14c1.1 0 2-.9 2-2V5c0-1.1-.9-2-2-2zM9 17H7v-7h2v7zm4 0h-2V7h2v10zm4 0h-2v-4h2v4z\"/>\n",
              "    </g>\n",
              "</svg>\n",
              "  </button>\n",
              "\n",
              "<style>\n",
              "  .colab-df-quickchart {\n",
              "      --bg-color: #E8F0FE;\n",
              "      --fill-color: #1967D2;\n",
              "      --hover-bg-color: #E2EBFA;\n",
              "      --hover-fill-color: #174EA6;\n",
              "      --disabled-fill-color: #AAA;\n",
              "      --disabled-bg-color: #DDD;\n",
              "  }\n",
              "\n",
              "  [theme=dark] .colab-df-quickchart {\n",
              "      --bg-color: #3B4455;\n",
              "      --fill-color: #D2E3FC;\n",
              "      --hover-bg-color: #434B5C;\n",
              "      --hover-fill-color: #FFFFFF;\n",
              "      --disabled-bg-color: #3B4455;\n",
              "      --disabled-fill-color: #666;\n",
              "  }\n",
              "\n",
              "  .colab-df-quickchart {\n",
              "    background-color: var(--bg-color);\n",
              "    border: none;\n",
              "    border-radius: 50%;\n",
              "    cursor: pointer;\n",
              "    display: none;\n",
              "    fill: var(--fill-color);\n",
              "    height: 32px;\n",
              "    padding: 0;\n",
              "    width: 32px;\n",
              "  }\n",
              "\n",
              "  .colab-df-quickchart:hover {\n",
              "    background-color: var(--hover-bg-color);\n",
              "    box-shadow: 0 1px 2px rgba(60, 64, 67, 0.3), 0 1px 3px 1px rgba(60, 64, 67, 0.15);\n",
              "    fill: var(--button-hover-fill-color);\n",
              "  }\n",
              "\n",
              "  .colab-df-quickchart-complete:disabled,\n",
              "  .colab-df-quickchart-complete:disabled:hover {\n",
              "    background-color: var(--disabled-bg-color);\n",
              "    fill: var(--disabled-fill-color);\n",
              "    box-shadow: none;\n",
              "  }\n",
              "\n",
              "  .colab-df-spinner {\n",
              "    border: 2px solid var(--fill-color);\n",
              "    border-color: transparent;\n",
              "    border-bottom-color: var(--fill-color);\n",
              "    animation:\n",
              "      spin 1s steps(1) infinite;\n",
              "  }\n",
              "\n",
              "  @keyframes spin {\n",
              "    0% {\n",
              "      border-color: transparent;\n",
              "      border-bottom-color: var(--fill-color);\n",
              "      border-left-color: var(--fill-color);\n",
              "    }\n",
              "    20% {\n",
              "      border-color: transparent;\n",
              "      border-left-color: var(--fill-color);\n",
              "      border-top-color: var(--fill-color);\n",
              "    }\n",
              "    30% {\n",
              "      border-color: transparent;\n",
              "      border-left-color: var(--fill-color);\n",
              "      border-top-color: var(--fill-color);\n",
              "      border-right-color: var(--fill-color);\n",
              "    }\n",
              "    40% {\n",
              "      border-color: transparent;\n",
              "      border-right-color: var(--fill-color);\n",
              "      border-top-color: var(--fill-color);\n",
              "    }\n",
              "    60% {\n",
              "      border-color: transparent;\n",
              "      border-right-color: var(--fill-color);\n",
              "    }\n",
              "    80% {\n",
              "      border-color: transparent;\n",
              "      border-right-color: var(--fill-color);\n",
              "      border-bottom-color: var(--fill-color);\n",
              "    }\n",
              "    90% {\n",
              "      border-color: transparent;\n",
              "      border-bottom-color: var(--fill-color);\n",
              "    }\n",
              "  }\n",
              "</style>\n",
              "\n",
              "  <script>\n",
              "    async function quickchart(key) {\n",
              "      const quickchartButtonEl =\n",
              "        document.querySelector('#' + key + ' button');\n",
              "      quickchartButtonEl.disabled = true;  // To prevent multiple clicks.\n",
              "      quickchartButtonEl.classList.add('colab-df-spinner');\n",
              "      try {\n",
              "        const charts = await google.colab.kernel.invokeFunction(\n",
              "            'suggestCharts', [key], {});\n",
              "      } catch (error) {\n",
              "        console.error('Error during call to suggestCharts:', error);\n",
              "      }\n",
              "      quickchartButtonEl.classList.remove('colab-df-spinner');\n",
              "      quickchartButtonEl.classList.add('colab-df-quickchart-complete');\n",
              "    }\n",
              "    (() => {\n",
              "      let quickchartButtonEl =\n",
              "        document.querySelector('#df-fd4365be-e097-4660-91c7-fb61357066cb button');\n",
              "      quickchartButtonEl.style.display =\n",
              "        google.colab.kernel.accessAllowed ? 'block' : 'none';\n",
              "    })();\n",
              "  </script>\n",
              "</div>\n",
              "\n",
              "    </div>\n",
              "  </div>\n"
            ],
            "text/plain": [
              "                          \"file\"  \\\n",
              "0        \"allen-p/_sent_mail/1.\"   \n",
              "1                      Date: Mon   \n",
              "2  From: phillip.allen@enron.com   \n",
              "3       To: tim.belden@enron.com   \n",
              "4                      Subject:    \n",
              "\n",
              "                                           \"message\"  \n",
              "0  \"Message-ID: <18782981.1075855378110.JavaMail....  \n",
              "1                   14 May 2001 16:39:00 -0700 (PDT)  \n",
              "2                                                NaN  \n",
              "3                                                NaN  \n",
              "4                                                NaN  "
            ]
          },
          "execution_count": 39,
          "metadata": {},
          "output_type": "execute_result"
        }
      ],
      "source": [
        "# Preview the dataset\n",
        "df.head()"
      ]
    },
    {
      "cell_type": "code",
      "execution_count": null,
      "metadata": {
        "colab": {
          "base_uri": "https://localhost:8080/",
          "height": 206
        },
        "id": "BnRPGZvfuk7d",
        "outputId": "ec773060-fb7f-46dc-a82d-ca10e2c7ccc2"
      },
      "outputs": [
        {
          "data": {
            "application/vnd.google.colaboratory.intrinsic+json": {
              "summary": "{\n  \"name\": \"df\",\n  \"rows\": 5,\n  \"fields\": [\n    {\n      \"column\": \"\\\"file\\\"\",\n      \"properties\": {\n        \"dtype\": \"string\",\n        \"num_unique_values\": 5,\n        \"samples\": [\n          \"relied on by anyone as the basis of a contract by estoppel or otherwise.\",\n          \"\\\"\",\n          \"Thank you.\"\n        ],\n        \"semantic_type\": \"\",\n        \"description\": \"\"\n      }\n    },\n    {\n      \"column\": \"\\\"message\\\"\",\n      \"properties\": {\n        \"dtype\": \"category\",\n        \"num_unique_values\": 1,\n        \"samples\": [\n          \" and may not be\"\n        ],\n        \"semantic_type\": \"\",\n        \"description\": \"\"\n      }\n    }\n  ]\n}",
              "type": "dataframe"
            },
            "text/html": [
              "\n",
              "  <div id=\"df-ccd4188d-fa3a-4faf-b0a2-70f1bf2b7558\" class=\"colab-df-container\">\n",
              "    <div>\n",
              "<style scoped>\n",
              "    .dataframe tbody tr th:only-of-type {\n",
              "        vertical-align: middle;\n",
              "    }\n",
              "\n",
              "    .dataframe tbody tr th {\n",
              "        vertical-align: top;\n",
              "    }\n",
              "\n",
              "    .dataframe thead th {\n",
              "        text-align: right;\n",
              "    }\n",
              "</style>\n",
              "<table border=\"1\" class=\"dataframe\">\n",
              "  <thead>\n",
              "    <tr style=\"text-align: right;\">\n",
              "      <th></th>\n",
              "      <th>\"file\"</th>\n",
              "      <th>\"message\"</th>\n",
              "    </tr>\n",
              "  </thead>\n",
              "  <tbody>\n",
              "    <tr>\n",
              "      <th>27277595</th>\n",
              "      <td>affiliates) and the intended recipient or any ...</td>\n",
              "      <td>and may not be</td>\n",
              "    </tr>\n",
              "    <tr>\n",
              "      <th>27277596</th>\n",
              "      <td>relied on by anyone as the basis of a contract...</td>\n",
              "      <td>NaN</td>\n",
              "    </tr>\n",
              "    <tr>\n",
              "      <th>27277597</th>\n",
              "      <td>Thank you.</td>\n",
              "      <td>NaN</td>\n",
              "    </tr>\n",
              "    <tr>\n",
              "      <th>27277598</th>\n",
              "      <td>**********************************************...</td>\n",
              "      <td>NaN</td>\n",
              "    </tr>\n",
              "    <tr>\n",
              "      <th>27277599</th>\n",
              "      <td>\"</td>\n",
              "      <td>NaN</td>\n",
              "    </tr>\n",
              "  </tbody>\n",
              "</table>\n",
              "</div>\n",
              "    <div class=\"colab-df-buttons\">\n",
              "\n",
              "  <div class=\"colab-df-container\">\n",
              "    <button class=\"colab-df-convert\" onclick=\"convertToInteractive('df-ccd4188d-fa3a-4faf-b0a2-70f1bf2b7558')\"\n",
              "            title=\"Convert this dataframe to an interactive table.\"\n",
              "            style=\"display:none;\">\n",
              "\n",
              "  <svg xmlns=\"http://www.w3.org/2000/svg\" height=\"24px\" viewBox=\"0 -960 960 960\">\n",
              "    <path d=\"M120-120v-720h720v720H120Zm60-500h600v-160H180v160Zm220 220h160v-160H400v160Zm0 220h160v-160H400v160ZM180-400h160v-160H180v160Zm440 0h160v-160H620v160ZM180-180h160v-160H180v160Zm440 0h160v-160H620v160Z\"/>\n",
              "  </svg>\n",
              "    </button>\n",
              "\n",
              "  <style>\n",
              "    .colab-df-container {\n",
              "      display:flex;\n",
              "      gap: 12px;\n",
              "    }\n",
              "\n",
              "    .colab-df-convert {\n",
              "      background-color: #E8F0FE;\n",
              "      border: none;\n",
              "      border-radius: 50%;\n",
              "      cursor: pointer;\n",
              "      display: none;\n",
              "      fill: #1967D2;\n",
              "      height: 32px;\n",
              "      padding: 0 0 0 0;\n",
              "      width: 32px;\n",
              "    }\n",
              "\n",
              "    .colab-df-convert:hover {\n",
              "      background-color: #E2EBFA;\n",
              "      box-shadow: 0px 1px 2px rgba(60, 64, 67, 0.3), 0px 1px 3px 1px rgba(60, 64, 67, 0.15);\n",
              "      fill: #174EA6;\n",
              "    }\n",
              "\n",
              "    .colab-df-buttons div {\n",
              "      margin-bottom: 4px;\n",
              "    }\n",
              "\n",
              "    [theme=dark] .colab-df-convert {\n",
              "      background-color: #3B4455;\n",
              "      fill: #D2E3FC;\n",
              "    }\n",
              "\n",
              "    [theme=dark] .colab-df-convert:hover {\n",
              "      background-color: #434B5C;\n",
              "      box-shadow: 0px 1px 3px 1px rgba(0, 0, 0, 0.15);\n",
              "      filter: drop-shadow(0px 1px 2px rgba(0, 0, 0, 0.3));\n",
              "      fill: #FFFFFF;\n",
              "    }\n",
              "  </style>\n",
              "\n",
              "    <script>\n",
              "      const buttonEl =\n",
              "        document.querySelector('#df-ccd4188d-fa3a-4faf-b0a2-70f1bf2b7558 button.colab-df-convert');\n",
              "      buttonEl.style.display =\n",
              "        google.colab.kernel.accessAllowed ? 'block' : 'none';\n",
              "\n",
              "      async function convertToInteractive(key) {\n",
              "        const element = document.querySelector('#df-ccd4188d-fa3a-4faf-b0a2-70f1bf2b7558');\n",
              "        const dataTable =\n",
              "          await google.colab.kernel.invokeFunction('convertToInteractive',\n",
              "                                                    [key], {});\n",
              "        if (!dataTable) return;\n",
              "\n",
              "        const docLinkHtml = 'Like what you see? Visit the ' +\n",
              "          '<a target=\"_blank\" href=https://colab.research.google.com/notebooks/data_table.ipynb>data table notebook</a>'\n",
              "          + ' to learn more about interactive tables.';\n",
              "        element.innerHTML = '';\n",
              "        dataTable['output_type'] = 'display_data';\n",
              "        await google.colab.output.renderOutput(dataTable, element);\n",
              "        const docLink = document.createElement('div');\n",
              "        docLink.innerHTML = docLinkHtml;\n",
              "        element.appendChild(docLink);\n",
              "      }\n",
              "    </script>\n",
              "  </div>\n",
              "\n",
              "\n",
              "<div id=\"df-2608eb00-23b3-46e3-8223-0abdd15da6c4\">\n",
              "  <button class=\"colab-df-quickchart\" onclick=\"quickchart('df-2608eb00-23b3-46e3-8223-0abdd15da6c4')\"\n",
              "            title=\"Suggest charts\"\n",
              "            style=\"display:none;\">\n",
              "\n",
              "<svg xmlns=\"http://www.w3.org/2000/svg\" height=\"24px\"viewBox=\"0 0 24 24\"\n",
              "     width=\"24px\">\n",
              "    <g>\n",
              "        <path d=\"M19 3H5c-1.1 0-2 .9-2 2v14c0 1.1.9 2 2 2h14c1.1 0 2-.9 2-2V5c0-1.1-.9-2-2-2zM9 17H7v-7h2v7zm4 0h-2V7h2v10zm4 0h-2v-4h2v4z\"/>\n",
              "    </g>\n",
              "</svg>\n",
              "  </button>\n",
              "\n",
              "<style>\n",
              "  .colab-df-quickchart {\n",
              "      --bg-color: #E8F0FE;\n",
              "      --fill-color: #1967D2;\n",
              "      --hover-bg-color: #E2EBFA;\n",
              "      --hover-fill-color: #174EA6;\n",
              "      --disabled-fill-color: #AAA;\n",
              "      --disabled-bg-color: #DDD;\n",
              "  }\n",
              "\n",
              "  [theme=dark] .colab-df-quickchart {\n",
              "      --bg-color: #3B4455;\n",
              "      --fill-color: #D2E3FC;\n",
              "      --hover-bg-color: #434B5C;\n",
              "      --hover-fill-color: #FFFFFF;\n",
              "      --disabled-bg-color: #3B4455;\n",
              "      --disabled-fill-color: #666;\n",
              "  }\n",
              "\n",
              "  .colab-df-quickchart {\n",
              "    background-color: var(--bg-color);\n",
              "    border: none;\n",
              "    border-radius: 50%;\n",
              "    cursor: pointer;\n",
              "    display: none;\n",
              "    fill: var(--fill-color);\n",
              "    height: 32px;\n",
              "    padding: 0;\n",
              "    width: 32px;\n",
              "  }\n",
              "\n",
              "  .colab-df-quickchart:hover {\n",
              "    background-color: var(--hover-bg-color);\n",
              "    box-shadow: 0 1px 2px rgba(60, 64, 67, 0.3), 0 1px 3px 1px rgba(60, 64, 67, 0.15);\n",
              "    fill: var(--button-hover-fill-color);\n",
              "  }\n",
              "\n",
              "  .colab-df-quickchart-complete:disabled,\n",
              "  .colab-df-quickchart-complete:disabled:hover {\n",
              "    background-color: var(--disabled-bg-color);\n",
              "    fill: var(--disabled-fill-color);\n",
              "    box-shadow: none;\n",
              "  }\n",
              "\n",
              "  .colab-df-spinner {\n",
              "    border: 2px solid var(--fill-color);\n",
              "    border-color: transparent;\n",
              "    border-bottom-color: var(--fill-color);\n",
              "    animation:\n",
              "      spin 1s steps(1) infinite;\n",
              "  }\n",
              "\n",
              "  @keyframes spin {\n",
              "    0% {\n",
              "      border-color: transparent;\n",
              "      border-bottom-color: var(--fill-color);\n",
              "      border-left-color: var(--fill-color);\n",
              "    }\n",
              "    20% {\n",
              "      border-color: transparent;\n",
              "      border-left-color: var(--fill-color);\n",
              "      border-top-color: var(--fill-color);\n",
              "    }\n",
              "    30% {\n",
              "      border-color: transparent;\n",
              "      border-left-color: var(--fill-color);\n",
              "      border-top-color: var(--fill-color);\n",
              "      border-right-color: var(--fill-color);\n",
              "    }\n",
              "    40% {\n",
              "      border-color: transparent;\n",
              "      border-right-color: var(--fill-color);\n",
              "      border-top-color: var(--fill-color);\n",
              "    }\n",
              "    60% {\n",
              "      border-color: transparent;\n",
              "      border-right-color: var(--fill-color);\n",
              "    }\n",
              "    80% {\n",
              "      border-color: transparent;\n",
              "      border-right-color: var(--fill-color);\n",
              "      border-bottom-color: var(--fill-color);\n",
              "    }\n",
              "    90% {\n",
              "      border-color: transparent;\n",
              "      border-bottom-color: var(--fill-color);\n",
              "    }\n",
              "  }\n",
              "</style>\n",
              "\n",
              "  <script>\n",
              "    async function quickchart(key) {\n",
              "      const quickchartButtonEl =\n",
              "        document.querySelector('#' + key + ' button');\n",
              "      quickchartButtonEl.disabled = true;  // To prevent multiple clicks.\n",
              "      quickchartButtonEl.classList.add('colab-df-spinner');\n",
              "      try {\n",
              "        const charts = await google.colab.kernel.invokeFunction(\n",
              "            'suggestCharts', [key], {});\n",
              "      } catch (error) {\n",
              "        console.error('Error during call to suggestCharts:', error);\n",
              "      }\n",
              "      quickchartButtonEl.classList.remove('colab-df-spinner');\n",
              "      quickchartButtonEl.classList.add('colab-df-quickchart-complete');\n",
              "    }\n",
              "    (() => {\n",
              "      let quickchartButtonEl =\n",
              "        document.querySelector('#df-2608eb00-23b3-46e3-8223-0abdd15da6c4 button');\n",
              "      quickchartButtonEl.style.display =\n",
              "        google.colab.kernel.accessAllowed ? 'block' : 'none';\n",
              "    })();\n",
              "  </script>\n",
              "</div>\n",
              "\n",
              "    </div>\n",
              "  </div>\n"
            ],
            "text/plain": [
              "                                                     \"file\"        \"message\"\n",
              "27277595  affiliates) and the intended recipient or any ...   and may not be\n",
              "27277596  relied on by anyone as the basis of a contract...              NaN\n",
              "27277597                                         Thank you.              NaN\n",
              "27277598  **********************************************...              NaN\n",
              "27277599                                                  \"              NaN"
            ]
          },
          "execution_count": 40,
          "metadata": {},
          "output_type": "execute_result"
        }
      ],
      "source": [
        "df.tail()"
      ]
    },
    {
      "cell_type": "code",
      "execution_count": null,
      "metadata": {
        "colab": {
          "base_uri": "https://localhost:8080/"
        },
        "id": "agqTEk_-wYKA",
        "outputId": "f4c41ebd-ee2b-4b08-9239-794f4089ee7c"
      },
      "outputs": [
        {
          "data": {
            "text/plain": [
              "(27277600, 2)"
            ]
          },
          "execution_count": 41,
          "metadata": {},
          "output_type": "execute_result"
        }
      ],
      "source": [
        "df.shape"
      ]
    },
    {
      "cell_type": "code",
      "execution_count": null,
      "metadata": {
        "colab": {
          "base_uri": "https://localhost:8080/"
        },
        "id": "cnwpXJRuw2Jl",
        "outputId": "7f3df915-204d-42c1-f178-236e3258b815"
      },
      "outputs": [
        {
          "name": "stdout",
          "output_type": "stream",
          "text": [
            "Index(['\"file\"', '\"message\"'], dtype='object')\n"
          ]
        }
      ],
      "source": [
        "print(df.columns)"
      ]
    },
    {
      "cell_type": "code",
      "execution_count": null,
      "metadata": {
        "colab": {
          "base_uri": "https://localhost:8080/"
        },
        "id": "o4rMbkdjweZN",
        "outputId": "b0abe43c-619c-42d9-f22e-3e322e910aa8"
      },
      "outputs": [
        {
          "name": "stdout",
          "output_type": "stream",
          "text": [
            "nan\n"
          ]
        }
      ],
      "source": [
        "print(df.loc[57282]['\"message\"'])"
      ]
    },
    {
      "cell_type": "code",
      "execution_count": null,
      "metadata": {
        "colab": {
          "base_uri": "https://localhost:8080/"
        },
        "collapsed": true,
        "id": "vtTkU0rxtyYq",
        "outputId": "d647685a-5c4b-40a4-c3cc-034cf06bb057"
      },
      "outputs": [
        {
          "name": "stdout",
          "output_type": "stream",
          "text": [
            "\"Message-ID: <2154371.1075855718388.JavaMail.evans@thyme>\n"
          ]
        }
      ],
      "source": [
        "print(df.iloc[102370,1])"
      ]
    },
    {
      "cell_type": "code",
      "execution_count": null,
      "metadata": {
        "colab": {
          "base_uri": "https://localhost:8080/"
        },
        "id": "gXj94-LixYHQ",
        "outputId": "9d29a75a-e21a-4422-f0dc-19792e4070da"
      },
      "outputs": [
        {
          "data": {
            "text/plain": [
              "[('\"Message-ID', '<2154371.1075855718388.JavaMail.evans@thyme>')]"
            ]
          },
          "execution_count": 45,
          "metadata": {},
          "output_type": "execute_result"
        }
      ],
      "source": [
        "# transform the email into correct format\n",
        "message = df.loc[102370]['\"message\"']\n",
        "e = email.message_from_string(message)\n",
        "\n",
        "e.items()"
      ]
    },
    {
      "cell_type": "code",
      "execution_count": null,
      "metadata": {
        "id": "oUV-QU4yyNxb"
      },
      "outputs": [],
      "source": [
        "# get date\n",
        "e.get('Date')"
      ]
    },
    {
      "cell_type": "code",
      "execution_count": null,
      "metadata": {
        "colab": {
          "base_uri": "https://localhost:8080/",
          "height": 36
        },
        "id": "l8EO7jYoyNqA",
        "outputId": "ff807ded-c743-40d6-9185-e8d85c415b55"
      },
      "outputs": [
        {
          "data": {
            "application/vnd.google.colaboratory.intrinsic+json": {
              "type": "string"
            },
            "text/plain": [
              "''"
            ]
          },
          "execution_count": 47,
          "metadata": {},
          "output_type": "execute_result"
        }
      ],
      "source": [
        "# show message body\n",
        "e.get_payload()"
      ]
    },
    {
      "cell_type": "markdown",
      "metadata": {
        "id": "97662Fd_ycr7"
      },
      "source": [
        "**Extract Message Body**"
      ]
    },
    {
      "cell_type": "code",
      "execution_count": null,
      "metadata": {
        "id": "khqSI8bJzEkk"
      },
      "outputs": [],
      "source": [
        "# def get_field(field, messages):\n",
        "#     column = []\n",
        "#     for message in messages:\n",
        "#         e = email.message_from_string(message)\n",
        "#         value = e.get(field)\n",
        "#         if value is not None:\n",
        "#             value = value.replace(\"\\n\", \" \").replace(\"\\r\", \"\")\n",
        "#         column.append(value)\n",
        "#     return column"
      ]
    },
    {
      "cell_type": "code",
      "execution_count": null,
      "metadata": {
        "id": "ADB9JyFC0wiF"
      },
      "outputs": [],
      "source": [
        "import email\n",
        "from io import StringIO\n",
        "\n",
        "def get_field(field, messages):\n",
        "    column = []\n",
        "    for message in messages:\n",
        "        # Convert message to string if it's not already\n",
        "        if not isinstance(message, str):\n",
        "            message = str(message)\n",
        "        e = email.message_from_string(message)\n",
        "        value = e.get(field)\n",
        "        if value is not None:\n",
        "            value = value.replace(\"\\n\", \" \").replace(\"\\r\", \"\")\n",
        "        column.append(value)\n",
        "    return column"
      ]
    },
    {
      "cell_type": "code",
      "execution_count": null,
      "metadata": {
        "id": "7tgmfw4b4K_Y"
      },
      "outputs": [],
      "source": []
    },
    {
      "cell_type": "code",
      "execution_count": null,
      "metadata": {
        "colab": {
          "background_save": true
        },
        "id": "IhAeyu1DzE2e"
      },
      "outputs": [],
      "source": [
        "df['date'] = get_field(\"Date\", df['\"message\"'])\n",
        "df['from'] = get_field(\"From\", df['\"message\"'])\n",
        "df['to'] = get_field(\"To\", df['\"message\"'])\n",
        "df['subject'] = get_field(\"Subject\", df['\"message\"'])\n"
      ]
    },
    {
      "cell_type": "code",
      "execution_count": null,
      "metadata": {
        "colab": {
          "background_save": true
        },
        "id": "Kc3U2IhXzEvp"
      },
      "outputs": [],
      "source": [
        "df['X-From'] = get_field(\"X-From\", df['\"message\"'])\n",
        "df['X-To'] = get_field(\"X-To\", df['\"message\"'])\n",
        "df['X-cc'] = get_field(\"X-cc\", df['\"message\"'])\n",
        "df['X-bcc'] = get_field(\"X-bcc\", df['\"message\"'])\n"
      ]
    },
    {
      "cell_type": "code",
      "execution_count": null,
      "metadata": {
        "colab": {
          "background_save": true
        },
        "id": "fQ3Kc3LpzEr_"
      },
      "outputs": [],
      "source": [
        "df['X-Folder'] = get_field(\"X-Folder\", df['\"message\"'])\n",
        "df['X-Origin'] = get_field(\"X-Origin\", df['\"message\"'])\n",
        "df['X-FileName'] = get_field(\"X-FileName\", df['\"message\"'])"
      ]
    },
    {
      "cell_type": "code",
      "execution_count": null,
      "metadata": {
        "colab": {
          "background_save": true
        },
        "id": "zGhoc36sAHxq",
        "outputId": "bd97af97-80ea-4afa-aea1-3484ea45cc3d"
      },
      "outputs": [
        {
          "data": {
            "application/vnd.google.colaboratory.intrinsic+json": {
              "type": "dataframe",
              "variable_name": "df"
            },
            "text/html": [
              "\n",
              "  <div id=\"df-841ebba3-eb14-4c29-a228-780cb8a572c7\" class=\"colab-df-container\">\n",
              "    <div>\n",
              "<style scoped>\n",
              "    .dataframe tbody tr th:only-of-type {\n",
              "        vertical-align: middle;\n",
              "    }\n",
              "\n",
              "    .dataframe tbody tr th {\n",
              "        vertical-align: top;\n",
              "    }\n",
              "\n",
              "    .dataframe thead th {\n",
              "        text-align: right;\n",
              "    }\n",
              "</style>\n",
              "<table border=\"1\" class=\"dataframe\">\n",
              "  <thead>\n",
              "    <tr style=\"text-align: right;\">\n",
              "      <th></th>\n",
              "      <th>\"file\"</th>\n",
              "      <th>\"message\"</th>\n",
              "      <th>date</th>\n",
              "      <th>from</th>\n",
              "      <th>to</th>\n",
              "      <th>subject</th>\n",
              "      <th>X-From</th>\n",
              "      <th>X-To</th>\n",
              "      <th>X-cc</th>\n",
              "      <th>X-bcc</th>\n",
              "      <th>X-Folder</th>\n",
              "      <th>X-Origin</th>\n",
              "      <th>X-FileName</th>\n",
              "    </tr>\n",
              "  </thead>\n",
              "  <tbody>\n",
              "    <tr>\n",
              "      <th>0</th>\n",
              "      <td>\"allen-p/_sent_mail/1.\"</td>\n",
              "      <td>\"Message-ID: &lt;18782981.1075855378110.JavaMail....</td>\n",
              "      <td>None</td>\n",
              "      <td>None</td>\n",
              "      <td>None</td>\n",
              "      <td>None</td>\n",
              "      <td>None</td>\n",
              "      <td>None</td>\n",
              "      <td>None</td>\n",
              "      <td>None</td>\n",
              "      <td>None</td>\n",
              "      <td>None</td>\n",
              "      <td>None</td>\n",
              "    </tr>\n",
              "    <tr>\n",
              "      <th>1</th>\n",
              "      <td>Date: Mon</td>\n",
              "      <td>14 May 2001 16:39:00 -0700 (PDT)</td>\n",
              "      <td>None</td>\n",
              "      <td>None</td>\n",
              "      <td>None</td>\n",
              "      <td>None</td>\n",
              "      <td>None</td>\n",
              "      <td>None</td>\n",
              "      <td>None</td>\n",
              "      <td>None</td>\n",
              "      <td>None</td>\n",
              "      <td>None</td>\n",
              "      <td>None</td>\n",
              "    </tr>\n",
              "    <tr>\n",
              "      <th>2</th>\n",
              "      <td>From: phillip.allen@enron.com</td>\n",
              "      <td>NaN</td>\n",
              "      <td>None</td>\n",
              "      <td>None</td>\n",
              "      <td>None</td>\n",
              "      <td>None</td>\n",
              "      <td>None</td>\n",
              "      <td>None</td>\n",
              "      <td>None</td>\n",
              "      <td>None</td>\n",
              "      <td>None</td>\n",
              "      <td>None</td>\n",
              "      <td>None</td>\n",
              "    </tr>\n",
              "    <tr>\n",
              "      <th>3</th>\n",
              "      <td>To: tim.belden@enron.com</td>\n",
              "      <td>NaN</td>\n",
              "      <td>None</td>\n",
              "      <td>None</td>\n",
              "      <td>None</td>\n",
              "      <td>None</td>\n",
              "      <td>None</td>\n",
              "      <td>None</td>\n",
              "      <td>None</td>\n",
              "      <td>None</td>\n",
              "      <td>None</td>\n",
              "      <td>None</td>\n",
              "      <td>None</td>\n",
              "    </tr>\n",
              "    <tr>\n",
              "      <th>4</th>\n",
              "      <td>Subject:</td>\n",
              "      <td>NaN</td>\n",
              "      <td>None</td>\n",
              "      <td>None</td>\n",
              "      <td>None</td>\n",
              "      <td>None</td>\n",
              "      <td>None</td>\n",
              "      <td>None</td>\n",
              "      <td>None</td>\n",
              "      <td>None</td>\n",
              "      <td>None</td>\n",
              "      <td>None</td>\n",
              "      <td>None</td>\n",
              "    </tr>\n",
              "  </tbody>\n",
              "</table>\n",
              "</div>\n",
              "    <div class=\"colab-df-buttons\">\n",
              "\n",
              "  <div class=\"colab-df-container\">\n",
              "    <button class=\"colab-df-convert\" onclick=\"convertToInteractive('df-841ebba3-eb14-4c29-a228-780cb8a572c7')\"\n",
              "            title=\"Convert this dataframe to an interactive table.\"\n",
              "            style=\"display:none;\">\n",
              "\n",
              "  <svg xmlns=\"http://www.w3.org/2000/svg\" height=\"24px\" viewBox=\"0 -960 960 960\">\n",
              "    <path d=\"M120-120v-720h720v720H120Zm60-500h600v-160H180v160Zm220 220h160v-160H400v160Zm0 220h160v-160H400v160ZM180-400h160v-160H180v160Zm440 0h160v-160H620v160ZM180-180h160v-160H180v160Zm440 0h160v-160H620v160Z\"/>\n",
              "  </svg>\n",
              "    </button>\n",
              "\n",
              "  <style>\n",
              "    .colab-df-container {\n",
              "      display:flex;\n",
              "      gap: 12px;\n",
              "    }\n",
              "\n",
              "    .colab-df-convert {\n",
              "      background-color: #E8F0FE;\n",
              "      border: none;\n",
              "      border-radius: 50%;\n",
              "      cursor: pointer;\n",
              "      display: none;\n",
              "      fill: #1967D2;\n",
              "      height: 32px;\n",
              "      padding: 0 0 0 0;\n",
              "      width: 32px;\n",
              "    }\n",
              "\n",
              "    .colab-df-convert:hover {\n",
              "      background-color: #E2EBFA;\n",
              "      box-shadow: 0px 1px 2px rgba(60, 64, 67, 0.3), 0px 1px 3px 1px rgba(60, 64, 67, 0.15);\n",
              "      fill: #174EA6;\n",
              "    }\n",
              "\n",
              "    .colab-df-buttons div {\n",
              "      margin-bottom: 4px;\n",
              "    }\n",
              "\n",
              "    [theme=dark] .colab-df-convert {\n",
              "      background-color: #3B4455;\n",
              "      fill: #D2E3FC;\n",
              "    }\n",
              "\n",
              "    [theme=dark] .colab-df-convert:hover {\n",
              "      background-color: #434B5C;\n",
              "      box-shadow: 0px 1px 3px 1px rgba(0, 0, 0, 0.15);\n",
              "      filter: drop-shadow(0px 1px 2px rgba(0, 0, 0, 0.3));\n",
              "      fill: #FFFFFF;\n",
              "    }\n",
              "  </style>\n",
              "\n",
              "    <script>\n",
              "      const buttonEl =\n",
              "        document.querySelector('#df-841ebba3-eb14-4c29-a228-780cb8a572c7 button.colab-df-convert');\n",
              "      buttonEl.style.display =\n",
              "        google.colab.kernel.accessAllowed ? 'block' : 'none';\n",
              "\n",
              "      async function convertToInteractive(key) {\n",
              "        const element = document.querySelector('#df-841ebba3-eb14-4c29-a228-780cb8a572c7');\n",
              "        const dataTable =\n",
              "          await google.colab.kernel.invokeFunction('convertToInteractive',\n",
              "                                                    [key], {});\n",
              "        if (!dataTable) return;\n",
              "\n",
              "        const docLinkHtml = 'Like what you see? Visit the ' +\n",
              "          '<a target=\"_blank\" href=https://colab.research.google.com/notebooks/data_table.ipynb>data table notebook</a>'\n",
              "          + ' to learn more about interactive tables.';\n",
              "        element.innerHTML = '';\n",
              "        dataTable['output_type'] = 'display_data';\n",
              "        await google.colab.output.renderOutput(dataTable, element);\n",
              "        const docLink = document.createElement('div');\n",
              "        docLink.innerHTML = docLinkHtml;\n",
              "        element.appendChild(docLink);\n",
              "      }\n",
              "    </script>\n",
              "  </div>\n",
              "\n",
              "\n",
              "<div id=\"df-4c7adbfe-d31e-408b-81d6-c58f60b90140\">\n",
              "  <button class=\"colab-df-quickchart\" onclick=\"quickchart('df-4c7adbfe-d31e-408b-81d6-c58f60b90140')\"\n",
              "            title=\"Suggest charts\"\n",
              "            style=\"display:none;\">\n",
              "\n",
              "<svg xmlns=\"http://www.w3.org/2000/svg\" height=\"24px\"viewBox=\"0 0 24 24\"\n",
              "     width=\"24px\">\n",
              "    <g>\n",
              "        <path d=\"M19 3H5c-1.1 0-2 .9-2 2v14c0 1.1.9 2 2 2h14c1.1 0 2-.9 2-2V5c0-1.1-.9-2-2-2zM9 17H7v-7h2v7zm4 0h-2V7h2v10zm4 0h-2v-4h2v4z\"/>\n",
              "    </g>\n",
              "</svg>\n",
              "  </button>\n",
              "\n",
              "<style>\n",
              "  .colab-df-quickchart {\n",
              "      --bg-color: #E8F0FE;\n",
              "      --fill-color: #1967D2;\n",
              "      --hover-bg-color: #E2EBFA;\n",
              "      --hover-fill-color: #174EA6;\n",
              "      --disabled-fill-color: #AAA;\n",
              "      --disabled-bg-color: #DDD;\n",
              "  }\n",
              "\n",
              "  [theme=dark] .colab-df-quickchart {\n",
              "      --bg-color: #3B4455;\n",
              "      --fill-color: #D2E3FC;\n",
              "      --hover-bg-color: #434B5C;\n",
              "      --hover-fill-color: #FFFFFF;\n",
              "      --disabled-bg-color: #3B4455;\n",
              "      --disabled-fill-color: #666;\n",
              "  }\n",
              "\n",
              "  .colab-df-quickchart {\n",
              "    background-color: var(--bg-color);\n",
              "    border: none;\n",
              "    border-radius: 50%;\n",
              "    cursor: pointer;\n",
              "    display: none;\n",
              "    fill: var(--fill-color);\n",
              "    height: 32px;\n",
              "    padding: 0;\n",
              "    width: 32px;\n",
              "  }\n",
              "\n",
              "  .colab-df-quickchart:hover {\n",
              "    background-color: var(--hover-bg-color);\n",
              "    box-shadow: 0 1px 2px rgba(60, 64, 67, 0.3), 0 1px 3px 1px rgba(60, 64, 67, 0.15);\n",
              "    fill: var(--button-hover-fill-color);\n",
              "  }\n",
              "\n",
              "  .colab-df-quickchart-complete:disabled,\n",
              "  .colab-df-quickchart-complete:disabled:hover {\n",
              "    background-color: var(--disabled-bg-color);\n",
              "    fill: var(--disabled-fill-color);\n",
              "    box-shadow: none;\n",
              "  }\n",
              "\n",
              "  .colab-df-spinner {\n",
              "    border: 2px solid var(--fill-color);\n",
              "    border-color: transparent;\n",
              "    border-bottom-color: var(--fill-color);\n",
              "    animation:\n",
              "      spin 1s steps(1) infinite;\n",
              "  }\n",
              "\n",
              "  @keyframes spin {\n",
              "    0% {\n",
              "      border-color: transparent;\n",
              "      border-bottom-color: var(--fill-color);\n",
              "      border-left-color: var(--fill-color);\n",
              "    }\n",
              "    20% {\n",
              "      border-color: transparent;\n",
              "      border-left-color: var(--fill-color);\n",
              "      border-top-color: var(--fill-color);\n",
              "    }\n",
              "    30% {\n",
              "      border-color: transparent;\n",
              "      border-left-color: var(--fill-color);\n",
              "      border-top-color: var(--fill-color);\n",
              "      border-right-color: var(--fill-color);\n",
              "    }\n",
              "    40% {\n",
              "      border-color: transparent;\n",
              "      border-right-color: var(--fill-color);\n",
              "      border-top-color: var(--fill-color);\n",
              "    }\n",
              "    60% {\n",
              "      border-color: transparent;\n",
              "      border-right-color: var(--fill-color);\n",
              "    }\n",
              "    80% {\n",
              "      border-color: transparent;\n",
              "      border-right-color: var(--fill-color);\n",
              "      border-bottom-color: var(--fill-color);\n",
              "    }\n",
              "    90% {\n",
              "      border-color: transparent;\n",
              "      border-bottom-color: var(--fill-color);\n",
              "    }\n",
              "  }\n",
              "</style>\n",
              "\n",
              "  <script>\n",
              "    async function quickchart(key) {\n",
              "      const quickchartButtonEl =\n",
              "        document.querySelector('#' + key + ' button');\n",
              "      quickchartButtonEl.disabled = true;  // To prevent multiple clicks.\n",
              "      quickchartButtonEl.classList.add('colab-df-spinner');\n",
              "      try {\n",
              "        const charts = await google.colab.kernel.invokeFunction(\n",
              "            'suggestCharts', [key], {});\n",
              "      } catch (error) {\n",
              "        console.error('Error during call to suggestCharts:', error);\n",
              "      }\n",
              "      quickchartButtonEl.classList.remove('colab-df-spinner');\n",
              "      quickchartButtonEl.classList.add('colab-df-quickchart-complete');\n",
              "    }\n",
              "    (() => {\n",
              "      let quickchartButtonEl =\n",
              "        document.querySelector('#df-4c7adbfe-d31e-408b-81d6-c58f60b90140 button');\n",
              "      quickchartButtonEl.style.display =\n",
              "        google.colab.kernel.accessAllowed ? 'block' : 'none';\n",
              "    })();\n",
              "  </script>\n",
              "</div>\n",
              "\n",
              "    </div>\n",
              "  </div>\n"
            ],
            "text/plain": [
              "                          \"file\"  \\\n",
              "0        \"allen-p/_sent_mail/1.\"   \n",
              "1                      Date: Mon   \n",
              "2  From: phillip.allen@enron.com   \n",
              "3       To: tim.belden@enron.com   \n",
              "4                      Subject:    \n",
              "\n",
              "                                           \"message\"  date  from    to  \\\n",
              "0  \"Message-ID: <18782981.1075855378110.JavaMail....  None  None  None   \n",
              "1                   14 May 2001 16:39:00 -0700 (PDT)  None  None  None   \n",
              "2                                                NaN  None  None  None   \n",
              "3                                                NaN  None  None  None   \n",
              "4                                                NaN  None  None  None   \n",
              "\n",
              "  subject X-From  X-To  X-cc X-bcc X-Folder X-Origin X-FileName  \n",
              "0    None   None  None  None  None     None     None       None  \n",
              "1    None   None  None  None  None     None     None       None  \n",
              "2    None   None  None  None  None     None     None       None  \n",
              "3    None   None  None  None  None     None     None       None  \n",
              "4    None   None  None  None  None     None     None       None  "
            ]
          },
          "execution_count": 53,
          "metadata": {},
          "output_type": "execute_result"
        }
      ],
      "source": [
        "df.head()"
      ]
    },
    {
      "cell_type": "code",
      "execution_count": null,
      "metadata": {
        "id": "m-79IcQpdvHc"
      },
      "outputs": [],
      "source": [
        "\n",
        "\n",
        "def body(messages):\n",
        "    column = []\n",
        "    for message in messages:\n",
        "        # Check if the message is a string before processing it\n",
        "        if isinstance(message, str):\n",
        "            e = email.message_from_string(message)\n",
        "            body = e.get_payload()\n",
        "            if body is not None:\n",
        "                body = body.replace(\"\\n\", \" \").replace(\"\\r\", \"\")\n",
        "            column.append(body)\n",
        "        else:\n",
        "            # Handle non-string messages (e.g., floats) by appending None or a placeholder\n",
        "            column.append(None)  # You can replace None with a more appropriate placeholder if needed\n",
        "    return column\n",
        "\n",
        "df['body'] = body(df['\"message\"'])"
      ]
    },
    {
      "cell_type": "code",
      "execution_count": null,
      "metadata": {
        "id": "FxP9oHPY4wG7"
      },
      "outputs": [],
      "source": [
        "df.head(3)"
      ]
    },
    {
      "cell_type": "code",
      "execution_count": null,
      "metadata": {
        "id": "mQ0u_72Kets-"
      },
      "outputs": [],
      "source": [
        "df.columns"
      ]
    },
    {
      "cell_type": "code",
      "execution_count": null,
      "metadata": {
        "id": "4aS0w16v4wE4"
      },
      "outputs": [],
      "source": [
        "email_df = df[['to', 'from', 'x-to', 'x-from', 'body']]"
      ]
    },
    {
      "cell_type": "code",
      "execution_count": null,
      "metadata": {
        "id": "agqx8qzu4wCK"
      },
      "outputs": [],
      "source": [
        "email_df = df[['to', 'from', '\"x-to\"', '\"x-from\"', 'body']]"
      ]
    },
    {
      "cell_type": "code",
      "execution_count": null,
      "metadata": {
        "id": "ghEyViakpbNE"
      },
      "outputs": [],
      "source": [
        "email_df = df[['to', 'from', 'x-to', 'x-from', 'body']]"
      ]
    },
    {
      "cell_type": "code",
      "execution_count": null,
      "metadata": {
        "id": "z50mrxFc4v8I"
      },
      "outputs": [],
      "source": []
    },
    {
      "cell_type": "code",
      "execution_count": null,
      "metadata": {
        "id": "J3z5CaPg4vtN"
      },
      "outputs": [],
      "source": []
    },
    {
      "cell_type": "markdown",
      "metadata": {
        "id": "GpSAbajKsGuz"
      },
      "source": [
        " **Filter Emails for Long Threads and Common Topics**"
      ]
    },
    {
      "cell_type": "code",
      "execution_count": null,
      "metadata": {
        "id": "3ghqgLoGp705"
      },
      "outputs": [],
      "source": [
        "# Assume 'body' column contains the email text and 'thread_id' identifies each thread.\n",
        "# Filter threads with 3 or more replies\n",
        "\n",
        "# Count emails per thread_id\n",
        "thread_counts = df['thread_id'].value_counts()\n",
        "long_threads = thread_counts[thread_counts >= 3].index\n",
        "\n",
        "# Filter emails that belong to long threads\n",
        "long_thread_emails = df[df['thread_id'].isin(long_threads)]\n"
      ]
    },
    {
      "cell_type": "markdown",
      "metadata": {
        "id": "56MoUfRmybSX"
      },
      "source": [
        "## **Filter by Common Topics**"
      ]
    },
    {
      "cell_type": "code",
      "execution_count": null,
      "metadata": {
        "id": "gdgACrvop7xp"
      },
      "outputs": [],
      "source": [
        "# Define keywords to filter by subject or body\n",
        "keywords = ['meeting', 'project update', 'schedule', 'report']\n",
        "\n",
        "# Filter based on subject or body containing keywords\n",
        "common_topic_emails = df[\n",
        "    df['subject'].str.contains('|'.join(keywords), case=False, na=False) |\n",
        "    df['body'].str.contains('|'.join(keywords), case=False, na=False)\n",
        "]\n"
      ]
    },
    {
      "cell_type": "markdown",
      "metadata": {
        "id": "A9jTyXi3yx-M"
      },
      "source": [
        "## **Clean Email Text**"
      ]
    },
    {
      "cell_type": "code",
      "execution_count": null,
      "metadata": {
        "id": "1kq-F94Gp7t4"
      },
      "outputs": [],
      "source": [
        "def clean_email_text(text):\n",
        "    # Remove email addresses\n",
        "    text = re.sub(r'\\S+@\\S+', '', text)\n",
        "\n",
        "    # Remove forwarded messages and replies\n",
        "    text = re.sub(r'(-{2,}|_{2,}|From:|To:|Sent:|Subject:).*', '', text, flags=re.MULTILINE)\n",
        "\n",
        "    # Remove signatures or greetings at the end\n",
        "    text = re.sub(r'(Best regards|Kind regards|Sincerely|Regards|Thank you|Cheers).*', '', text, flags=re.IGNORECASE)\n",
        "\n",
        "    # Tokenize and remove stop words\n",
        "    words = word_tokenize(text)\n",
        "    words = [word for word in words if word.lower() not in stopwords.words('english')]\n",
        "\n",
        "    return ' '.join(words)\n",
        "\n",
        "# Apply cleaning function to the body of emails in long threads and common topics\n",
        "long_thread_emails['cleaned_body'] = long_thread_emails['body'].apply(clean_email_text)\n",
        "common_topic_emails['cleaned_body'] = common_topic_emails['body'].apply(clean_email_text)\n"
      ]
    },
    {
      "cell_type": "markdown",
      "metadata": {
        "id": "MNzlm94EzYfu"
      },
      "source": [
        "## Combine Cleaned Emails and Save\n"
      ]
    },
    {
      "cell_type": "code",
      "execution_count": null,
      "metadata": {
        "id": "psc1dqQlp7q1"
      },
      "outputs": [],
      "source": [
        "# Combine cleaned datasets\n",
        "processed_emails = pd.concat([long_thread_emails, common_topic_emails])\n",
        "\n",
        "# Select only the necessary columns for further processing\n",
        "processed_emails = processed_emails[['message_id', 'thread_id', 'subject', 'cleaned_body']]\n",
        "\n",
        "# Save to CSV\n",
        "processed_emails.to_csv(\"processed_enron_emails.csv\", index=False)\n"
      ]
    },
    {
      "cell_type": "code",
      "execution_count": null,
      "metadata": {
        "id": "o_j2BEvap7n9"
      },
      "outputs": [],
      "source": [
        "pip install transformers torch\n"
      ]
    },
    {
      "cell_type": "markdown",
      "metadata": {
        "id": "LLRc7PZd1KT_"
      },
      "source": [
        "**Import the Model and Tokenizer**"
      ]
    },
    {
      "cell_type": "code",
      "execution_count": null,
      "metadata": {
        "id": "0CutUoChp7k2"
      },
      "outputs": [],
      "source": [
        "from transformers import T5ForConditionalGeneration, T5Tokenizer\n",
        "\n",
        "# Load T5 model and tokenizer\n",
        "model = T5ForConditionalGeneration.from_pretrained(\"t5-small\")  # or \"t5-base\" for larger model\n",
        "tokenizer = T5Tokenizer.from_pretrained(\"t5-small\")\n",
        "\n"
      ]
    },
    {
      "cell_type": "markdown",
      "metadata": {
        "id": "fxRr_GQr07G7"
      },
      "source": [
        "**Prepare and Preprocess Email Threads for Summarization**"
      ]
    },
    {
      "cell_type": "code",
      "execution_count": null,
      "metadata": {
        "id": "5NS4vljCp7fi"
      },
      "outputs": [],
      "source": [
        "import pandas as pd\n",
        "\n",
        "# Load the processed email dataset\n",
        "email_data = pd.read_csv(\"processed_enron_emails.csv\")\n",
        "\n",
        "# Preview the dataset\n",
        "email_data.head()\n"
      ]
    },
    {
      "cell_type": "markdown",
      "metadata": {
        "id": "pMacn4z51Yt9"
      },
      "source": [
        "Concatenate Email Threads into Single Text Blocks"
      ]
    },
    {
      "cell_type": "code",
      "execution_count": null,
      "metadata": {
        "id": "RZ5hgyLQp7cx"
      },
      "outputs": [],
      "source": [
        "# Combine emails by 'thread_id' to create a single text for each thread\n",
        "email_threads = email_data.groupby('thread_id')['cleaned_body'].apply(lambda x: ' '.join(x)).reset_index()\n",
        "\n",
        "# Preview combined threads\n",
        "email_threads.head()\n"
      ]
    },
    {
      "cell_type": "markdown",
      "metadata": {
        "id": "L77fQOto1lq1"
      },
      "source": [
        "Summarize Each Email Thread"
      ]
    },
    {
      "cell_type": "code",
      "execution_count": null,
      "metadata": {
        "id": "mpZH9A1hp7Y5"
      },
      "outputs": [],
      "source": [
        "def summarize_text(text, model, tokenizer, max_input_length=512, max_output_length=150):\n",
        "    # Encode input text and limit to max_input_length tokens\n",
        "    inputs = tokenizer.encode(\"summarize: \" + text, return_tensors=\"pt\", max_length=max_input_length, truncation=True)\n",
        "\n",
        "    # Generate summary with the model\n",
        "    summary_ids = model.generate(inputs, max_length=max_output_length, min_length=50, length_penalty=2.0, num_beams=4, early_stopping=True)\n",
        "\n",
        "    # Decode the summary back into text\n",
        "    summary = tokenizer.decode(summary_ids[0], skip_special_tokens=True)\n",
        "\n",
        "    return summary\n",
        "\n",
        "# Apply summarization function to each thread\n",
        "email_threads['summary'] = email_threads['cleaned_body'].apply(lambda x: summarize_text(x, model, tokenizer))\n"
      ]
    },
    {
      "cell_type": "markdown",
      "metadata": {
        "id": "CbCFEf762Fj2"
      },
      "source": [
        " Evaluate Summaries"
      ]
    },
    {
      "cell_type": "code",
      "execution_count": null,
      "metadata": {
        "id": "sqQ62q1_2He_"
      },
      "outputs": [],
      "source": [
        "# Display summaries for review\n",
        "for i in range(5):\n",
        "    print(f\"Thread ID: {email_threads['thread_id'][i]}\")\n",
        "    print(f\"Original Text: {email_threads['cleaned_body'][i][:500]}\")  # Preview first 500 characters\n",
        "    print(f\"Summary: {email_threads['summary'][i]}\")\n",
        "    print(\"-\" * 80)\n"
      ]
    },
    {
      "cell_type": "code",
      "execution_count": null,
      "metadata": {
        "id": "Ardr6kv52SPR"
      },
      "outputs": [],
      "source": [
        "from rouge_score import rouge_scorer\n",
        "\n",
        "# Initialize ROUGE scorer\n",
        "scorer = rouge_scorer.RougeScorer(['rouge1', 'rouge2', 'rougeL'], use_stemmer=True)\n",
        "\n",
        "# Calculate ROUGE scores for a sample of summaries\n",
        "for i in range(5):\n",
        "    scores = scorer.score(email_threads['cleaned_body'][i], email_threads['summary'][i])\n",
        "    print(f\"Thread ID: {email_threads['thread_id'][i]}\")\n",
        "    print(f\"ROUGE Scores: {scores}\")\n",
        "    print(\"-\" * 80)\n"
      ]
    },
    {
      "cell_type": "code",
      "execution_count": null,
      "metadata": {
        "id": "obDQlASA2-M2"
      },
      "outputs": [],
      "source": [
        "# Save summarized threads to CSV\n",
        "email_threads[['thread_id', 'summary']].to_csv(\"summarized_email_threads.csv\", index=False)\n"
      ]
    },
    {
      "cell_type": "markdown",
      "metadata": {
        "id": "5bOp56_V58yz"
      },
      "source": [
        "**Response Generation Task** :\n",
        "\n",
        "Goal: Automatically generate responses to common email types.\n",
        "• Steps:\n",
        "o Select a set of common email topics (e.g., meeting requests, status updates).\n",
        "o Use a pre-trained model to generate an automated response based on the email\n",
        "content.\n",
        "o Evaluate the responses by checking if they are relevant and appropriate for the\n",
        "context."
      ]
    },
    {
      "cell_type": "markdown",
      "metadata": {
        "id": "ykCKYBdEFy58"
      },
      "source": []
    },
    {
      "cell_type": "code",
      "execution_count": null,
      "metadata": {
        "id": "gWU5rKKL58Q6"
      },
      "outputs": [],
      "source": [
        "import pandas as pd\n",
        "\n",
        "# Load the preprocessed email dataset\n",
        "email_data = pd.read_csv(\"processed_enron_emails.csv\")\n",
        "\n",
        "# Apply categorization to each email based on subject and body\n",
        "email_data['category'] = email_data.apply(lambda x: categorize_email(x['subject'], x['cleaned_body']), axis=1)\n",
        "\n",
        "# Filter emails to keep only those that match common topics\n",
        "email_data = email_data[email_data['category'] != 'other']\n"
      ]
    },
    {
      "cell_type": "markdown",
      "metadata": {
        "id": "H4DbXuh_6_ah"
      },
      "source": [
        "**Select Common Email Topics**"
      ]
    },
    {
      "cell_type": "code",
      "execution_count": null,
      "metadata": {
        "id": "xIb6iwOe58Oe"
      },
      "outputs": [],
      "source": [
        "# Define categories for common email types\n",
        "common_topics = {\n",
        "    'meeting_request': ['meeting', 'schedule', 'appointment'],\n",
        "    'status_update': ['update', 'progress', 'status', 'report'],\n",
        "    'follow_up': ['follow-up', 'pending', 'reminder']\n",
        "}\n",
        "\n",
        "# Example function to categorize an email based on subject or body content\n",
        "def categorize_email(subject, body):\n",
        "    for topic, keywords in common_topics.items():\n",
        "        if any(keyword in subject.lower() or keyword in body.lower() for keyword in keywords):\n",
        "            return topic\n",
        "    return 'other'  # Use 'other' for emails that don't match defined categories\n"
      ]
    },
    {
      "cell_type": "code",
      "execution_count": null,
      "metadata": {
        "id": "RSnEdkGt58LT"
      },
      "outputs": [],
      "source": [
        "pip install transformers\n"
      ]
    },
    {
      "cell_type": "markdown",
      "metadata": {
        "id": "4z9PTX577R0X"
      },
      "source": [
        "**Load the Pre-trained Model and Tokenizer**"
      ]
    },
    {
      "cell_type": "code",
      "execution_count": null,
      "metadata": {
        "id": "cIi-6qtl58H8"
      },
      "outputs": [],
      "source": [
        "from transformers import GPT2LMHeadModel, GPT2Tokenizer\n",
        "\n",
        "# Load GPT-2 model and tokenizer\n",
        "model_name = \"gpt2\"\n",
        "tokenizer = GPT2Tokenizer.from_pretrained(model_name)\n",
        "model = GPT2LMHeadModel.from_pretrained(model_name)\n"
      ]
    },
    {
      "cell_type": "markdown",
      "metadata": {
        "id": "XLBVEAmK7ZQk"
      },
      "source": [
        "**Generate Responses for Each Emai**"
      ]
    },
    {
      "cell_type": "code",
      "execution_count": null,
      "metadata": {
        "id": "t5fjUu7G58Fy"
      },
      "outputs": [],
      "source": [
        "import torch\n",
        "\n",
        "def generate_response(email_content, category, model, tokenizer, max_length=100):\n",
        "    # Define prompt templates for each category\n",
        "    prompts = {\n",
        "        'meeting_request': \"Respond to a meeting request:\",\n",
        "        'status_update': \"Provide a status update:\",\n",
        "        'follow_up': \"Respond to a follow-up email:\",\n",
        "    }\n",
        "\n",
        "    # Construct the prompt\n",
        "    prompt = prompts.get(category, \"Respond to the email:\") + \" \" + email_content\n",
        "\n",
        "    # Encode the input and generate response\n",
        "    inputs = tokenizer.encode(prompt, return_tensors=\"pt\")\n",
        "    outputs = model.generate(inputs, max_length=max_length, num_return_sequences=1, no_repeat_ngram_size=2, top_k=50, top_p=0.95, temperature=0.7)\n",
        "\n",
        "    # Decode the generated text\n",
        "    response = tokenizer.decode(outputs[0], skip_special_tokens=True)\n",
        "    return response\n"
      ]
    },
    {
      "cell_type": "code",
      "execution_count": null,
      "metadata": {
        "id": "U9LGrRJV-DO9"
      },
      "outputs": [],
      "source": [
        "# Generate responses for each email\n",
        "email_data['response'] = email_data.apply(lambda x: generate_response(x['cleaned_body'], x['category'], model, tokenizer), axis=1)\n",
        "\n",
        "# Display sample responses\n",
        "email_data[['subject', 'cleaned_body', 'response']].head()\n"
      ]
    },
    {
      "cell_type": "markdown",
      "metadata": {
        "id": "EtUGirIJ7vyF"
      },
      "source": [
        "**Evaluate the Generated Responses**"
      ]
    },
    {
      "cell_type": "markdown",
      "metadata": {
        "id": "hjVkyV9R75sS"
      },
      "source": [
        "Manual Evaluation"
      ]
    },
    {
      "cell_type": "code",
      "execution_count": null,
      "metadata": {
        "id": "PC308HgO7bKs"
      },
      "outputs": [],
      "source": [
        "# Display sample responses for manual evaluation\n",
        "for i in range(5):\n",
        "    print(f\"Subject: {email_data['subject'][i]}\")\n",
        "    print(f\"Original Email: {email_data['cleaned_body'][i]}\")\n",
        "    print(f\"Generated Response: {email_data['response'][i]}\")\n",
        "    print(\"-\" * 80)\n"
      ]
    },
    {
      "cell_type": "markdown",
      "metadata": {
        "id": "UDvw2Zc48LyR"
      },
      "source": [
        "**Automated Evaluation (Optional)**"
      ]
    },
    {
      "cell_type": "code",
      "execution_count": null,
      "metadata": {
        "id": "RI7EovoR58C8"
      },
      "outputs": [],
      "source": [
        "from nltk.translate.bleu_score import sentence_bleu\n",
        "\n",
        "# Calculate BLEU scores for a sample if true responses are available\n",
        "# Assuming `true_response` column contains actual responses\n",
        "if 'true_response' in email_data.columns:\n",
        "    email_data['bleu_score'] = email_data.apply(lambda x: sentence_bleu([x['true_response']], x['response']), axis=1)\n",
        "    print(email_data[['subject', 'bleu_score']].head())\n"
      ]
    },
    {
      "cell_type": "markdown",
      "metadata": {
        "id": "EEOGlLRG-Rcb"
      },
      "source": [
        "Save Generated Responses for Further Analysis**"
      ]
    },
    {
      "cell_type": "code",
      "execution_count": null,
      "metadata": {
        "id": "bmn_9ig157-A"
      },
      "outputs": [],
      "source": [
        "# Save the email data with generated responses to a CSV\n",
        "email_data[['subject', 'cleaned_body', 'category', 'response']].to_csv(\"generated_responses.csv\", index=False)\n"
      ]
    },
    {
      "cell_type": "code",
      "execution_count": null,
      "metadata": {
        "id": "66lZmfvA5770"
      },
      "outputs": [],
      "source": []
    },
    {
      "cell_type": "markdown",
      "metadata": {
        "id": "bs_CQaITFP3F"
      },
      "source": [
        "Summarization Task:\n",
        "o Assess the quality (using metrics or manually) of the summaries. Does the\n",
        "summary capture the main points? Is it concise and accurate"
      ]
    },
    {
      "cell_type": "code",
      "execution_count": null,
      "metadata": {
        "id": "J94HuYq65743"
      },
      "outputs": [],
      "source": [
        "!pip install rouge-score\n"
      ]
    },
    {
      "cell_type": "markdown",
      "metadata": {
        "id": "74BcPQnsBhR8"
      },
      "source": [
        "**Setting Up Automatic Evaluation with ROUGE Scores**"
      ]
    },
    {
      "cell_type": "markdown",
      "metadata": {
        "id": "Eie337CCBnXG"
      },
      "source": [
        "Import and Initialize the ROUGE Scorer"
      ]
    },
    {
      "cell_type": "code",
      "execution_count": null,
      "metadata": {
        "id": "sgSg9450572H"
      },
      "outputs": [],
      "source": [
        "from rouge_score import rouge_scorer\n",
        "import pandas as pd\n",
        "\n",
        "# Initialize ROUGE scorer for different n-grams\n",
        "scorer = rouge_scorer.RougeScorer(['rouge1', 'rouge2', 'rougeL'], use_stemmer=True)\n"
      ]
    },
    {
      "cell_type": "markdown",
      "metadata": {
        "id": "ni9Vg9p2B1pq"
      },
      "source": [
        "**Load Summarized Data and Prepare Reference Texts**"
      ]
    },
    {
      "cell_type": "code",
      "execution_count": null,
      "metadata": {
        "id": "Lzc4-q2f57uu"
      },
      "outputs": [],
      "source": [
        "# Load the summarized data for evaluation\n",
        "email_threads = pd.read_csv(\"summarized_email_threads.csv\")\n",
        "\n",
        "# Display the data structure for reference\n",
        "email_threads.head()\n"
      ]
    },
    {
      "cell_type": "markdown",
      "metadata": {
        "id": "dBG-uBndB7cL"
      },
      "source": [
        "**Calculate ROUGE Scores for Each Summary**"
      ]
    },
    {
      "cell_type": "code",
      "execution_count": null,
      "metadata": {
        "id": "qLuSSzPr57rT"
      },
      "outputs": [],
      "source": [
        "def calculate_rouge_scores(reference, summary, scorer):\n",
        "    # Calculate ROUGE-1, ROUGE-2, and ROUGE-L scores\n",
        "    scores = scorer.score(reference, summary)\n",
        "\n",
        "    # Extract the F1 scores for each metric as a concise measure of quality\n",
        "    return {\n",
        "        'rouge1': scores['rouge1'].fmeasure,\n",
        "        'rouge2': scores['rouge2'].fmeasure,\n",
        "        'rougeL': scores['rougeL'].fmeasure\n",
        "    }\n",
        "\n",
        "# Apply ROUGE scoring to each row in the dataframe\n",
        "email_threads[['rouge1', 'rouge2', 'rougeL']] = email_threads.apply(\n",
        "    lambda row: pd.Series(calculate_rouge_scores(row['original_text'], row['summary'], scorer)), axis=1\n",
        ")\n"
      ]
    },
    {
      "cell_type": "markdown",
      "metadata": {
        "id": "nmlb3w1_CC7O"
      },
      "source": [
        "**Review Average ROUGE Scores**"
      ]
    },
    {
      "cell_type": "code",
      "execution_count": null,
      "metadata": {
        "id": "0dnsq_ouCFcH"
      },
      "outputs": [],
      "source": [
        "# Calculate average ROUGE scores\n",
        "average_rouge1 = email_threads['rouge1'].mean()\n",
        "average_rouge2 = email_threads['rouge2'].mean()\n",
        "average_rougeL = email_threads['rougeL'].mean()\n",
        "\n",
        "print(f\"Average ROUGE-1 Score: {average_rouge1:.2f}\")\n",
        "print(f\"Average ROUGE-2 Score: {average_rouge2:.2f}\")\n",
        "print(f\"Average ROUGE-L Score: {average_rougeL:.2f}\")\n"
      ]
    },
    {
      "cell_type": "markdown",
      "metadata": {
        "id": "cVQ_8xWVCZI1"
      },
      "source": [
        "** Manual Evaluation of Summaries**"
      ]
    },
    {
      "cell_type": "code",
      "execution_count": null,
      "metadata": {
        "id": "ZBcfSeD0CKur"
      },
      "outputs": [],
      "source": [
        "# Display a sample of summaries for manual evaluation\n",
        "sample_size = 5\n",
        "sample_data = email_threads.sample(n=sample_size)\n",
        "\n",
        "for idx, row in sample_data.iterrows():\n",
        "    print(f\"Original Thread:\\n{row['original_text'][:500]}...\")  # Show first 500 characters\n",
        "    print(f\"Generated Summary:\\n{row['summary']}\")\n",
        "    print(f\"ROUGE-1: {row['rouge1']:.2f}, ROUGE-2: {row['rouge2']:.2f}, ROUGE-L: {row['rougeL']:.2f}\")\n",
        "    print(\"Does the summary capture main points? Is it concise and relevant?\")\n",
        "    print(\"-\" * 80)\n"
      ]
    },
    {
      "cell_type": "markdown",
      "metadata": {
        "id": "he5NJNg4CSsB"
      },
      "source": [
        "**Additional Qualitative Evaluation Criteria (Optional)**"
      ]
    },
    {
      "cell_type": "code",
      "execution_count": null,
      "metadata": {
        "id": "j6oChWd2CPtY"
      },
      "outputs": [],
      "source": [
        "# Sample rubric for manual scoring (adjust as needed)\n",
        "email_threads['relevance_score'] = [5, 4, 3, 5, 4]  # Replace with actual scores from manual review\n",
        "email_threads['conciseness_score'] = [4, 5, 3, 4, 5]\n",
        "email_threads['coherence_score'] = [5, 4, 4, 5, 4]\n",
        "\n",
        "# Calculate average manual scores\n",
        "average_relevance = email_threads['relevance_score'].mean()\n",
        "average_conciseness = email_threads['conciseness_score'].mean()\n",
        "average_coherence = email_threads['coherence_score'].mean()\n",
        "\n",
        "print(f\"Average Relevance Score: {average_relevance}\")\n",
        "print(f\"Average Conciseness Score: {average_conciseness}\")\n",
        "print(f\"Average Coherence Score: {average_coherence}\")\n"
      ]
    },
    {
      "cell_type": "markdown",
      "metadata": {
        "id": "rCLYjNABDkI_"
      },
      "source": [
        "Response Generation Task:\n",
        "o Check if the responses are coherent, contextually appropriate, and relevant to\n",
        "the email.     writen  code in detail way"
      ]
    },
    {
      "cell_type": "code",
      "execution_count": null,
      "metadata": {
        "id": "Z4z_Ylt-Dps9"
      },
      "outputs": [],
      "source": [
        "import pandas as pd\n",
        "\n",
        "# Load the generated responses for evaluation\n",
        "responses_data = pd.read_csv(\"generated_responses.csv\")\n",
        "\n",
        "# Display the data structure for reference\n",
        "responses_data.head()\n"
      ]
    },
    {
      "cell_type": "markdown",
      "metadata": {
        "id": "AUf0mJoDDyAx"
      },
      "source": [
        "**Automated Evaluation of Response Relevanc**e"
      ]
    },
    {
      "cell_type": "markdown",
      "metadata": {
        "id": "d_Eywr5dD1_0"
      },
      "source": [
        "Import and Initialize Sentence-BERT Model"
      ]
    },
    {
      "cell_type": "code",
      "execution_count": null,
      "metadata": {
        "id": "KmOi2hFpD0U2"
      },
      "outputs": [],
      "source": [
        "from sentence_transformers import SentenceTransformer, util\n",
        "\n",
        "# Load the Sentence-BERT model\n",
        "similarity_model = SentenceTransformer('paraphrase-MiniLM-L6-v2')\n"
      ]
    },
    {
      "cell_type": "markdown",
      "metadata": {
        "id": "Xku5yXFsEAra"
      },
      "source": [
        "**Calculate Semantic Similarity**"
      ]
    },
    {
      "cell_type": "code",
      "execution_count": null,
      "metadata": {
        "id": "ItRcfcJHD9O-"
      },
      "outputs": [],
      "source": [
        "def calculate_similarity(email_content, generated_response, model):\n",
        "    # Encode both email content and response\n",
        "    email_embedding = model.encode(email_content, convert_to_tensor=True)\n",
        "    response_embedding = model.encode(generated_response, convert_to_tensor=True)\n",
        "\n",
        "    # Calculate cosine similarity\n",
        "    similarity = util.cos_sim(email_embedding, response_embedding).item()\n",
        "    return similarity\n",
        "\n",
        "# Apply the similarity function to each row in the data\n",
        "responses_data['similarity'] = responses_data.apply(\n",
        "    lambda x: calculate_similarity(x['email_content'], x['generated_response'], similarity_model), axis=1\n",
        ")\n",
        "\n",
        "# Display sample similarity scores\n",
        "responses_data[['email_content', 'generated_response', 'similarity']].head()\n"
      ]
    },
    {
      "cell_type": "markdown",
      "metadata": {
        "id": "fWt19e9ZEF7Q"
      },
      "source": [
        "**Average Similarity Score**"
      ]
    },
    {
      "cell_type": "code",
      "execution_count": null,
      "metadata": {
        "id": "s8_PJAfjEKOz"
      },
      "outputs": [],
      "source": [
        "average_similarity = responses_data['similarity'].mean()\n",
        "print(f\"Average Semantic Similarity: {average_similarity:.2f}\")\n"
      ]
    },
    {
      "cell_type": "markdown",
      "metadata": {
        "id": "6b2yna9iEULu"
      },
      "source": [
        "**Manual Evaluation for Coherence, Contextual Appropriateness, and Relevance**"
      ]
    },
    {
      "cell_type": "code",
      "execution_count": null,
      "metadata": {
        "id": "oxAoXSLVEZB-"
      },
      "outputs": [],
      "source": [
        "# Display a sample of responses for manual evaluation\n",
        "sample_size = 5\n",
        "sample_data = responses_data.sample(n=sample_size)\n",
        "\n",
        "for idx, row in sample_data.iterrows():\n",
        "    print(f\"Original Email Content:\\n{row['email_content'][:500]}...\")  # Show first 500 characters\n",
        "    print(f\"Generated Response:\\n{row['generated_response']}\")\n",
        "    print(f\"Semantic Similarity Score: {row['similarity']:.2f}\")\n",
        "    print(\"Score for Coherence (1-5): \")\n",
        "    print(\"Score for Contextual Appropriateness (1-5): \")\n",
        "    print(\"Score for Relevance (1-5): \")\n",
        "    print(\"-\" * 80)\n"
      ]
    },
    {
      "cell_type": "markdown",
      "metadata": {
        "id": "jvIsf81XEcmE"
      },
      "source": [
        " **Enter Scores and Calculate Averages **"
      ]
    },
    {
      "cell_type": "code",
      "execution_count": null,
      "metadata": {
        "id": "3_syRInZEjFX"
      },
      "outputs": [],
      "source": [
        "# Manually add scores (replace with actual scores from manual review)\n",
        "responses_data['coherence_score'] = [4, 5, 3, 4, 5]  # Example scores\n",
        "responses_data['contextual_appropriateness_score'] = [5, 4, 3, 4, 5]\n",
        "responses_data['relevance_score'] = [4, 5, 4, 5, 5]\n",
        "\n",
        "# Calculate average scores for each criterion\n",
        "average_coherence = responses_data['coherence_score'].mean()\n",
        "average_contextual_appropriateness = responses_data['contextual_appropriateness_score'].mean()\n",
        "average_relevance = responses_data['relevance_score'].mean()\n",
        "\n",
        "print(f\"Average Coherence Score: {average_coherence}\")\n",
        "print(f\"Average Contextual Appropriateness Score: {average_contextual_appropriateness}\")\n",
        "print(f\"Average Relevance Score: {average_relevance}\")\n"
      ]
    },
    {
      "cell_type": "markdown",
      "metadata": {
        "id": "KpKGsOtQEn02"
      },
      "source": [
        "**Summary of Evaluation Results**"
      ]
    },
    {
      "cell_type": "code",
      "execution_count": null,
      "metadata": {
        "id": "i-fgVmflEpyU"
      },
      "outputs": [],
      "source": [
        "print(\"Evaluation Summary:\")\n",
        "print(f\"Average Semantic Similarity (Relevance): {average_similarity:.2f}\")\n",
        "print(f\"Average Coherence Score: {average_coherence:.2f}\")\n",
        "print(f\"Average Contextual Appropriateness Score: {average_contextual_appropriateness:.2f}\")\n",
        "print(f\"Average Relevance Score: {average_relevance:.2f}\")\n"
      ]
    },
    {
      "cell_type": "code",
      "execution_count": null,
      "metadata": {
        "id": "HHRtM-s_E0n9"
      },
      "outputs": [],
      "source": []
    },
    {
      "cell_type": "code",
      "execution_count": null,
      "metadata": {
        "id": "p4c4ksgxE0kY"
      },
      "outputs": [],
      "source": []
    },
    {
      "cell_type": "code",
      "execution_count": null,
      "metadata": {
        "id": "-RsU22U9E0a1"
      },
      "outputs": [],
      "source": []
    },
    {
      "cell_type": "markdown",
      "metadata": {
        "id": "X10WXpl9E3N0"
      },
      "source": [
        " **Flask App**"
      ]
    },
    {
      "cell_type": "code",
      "execution_count": null,
      "metadata": {
        "id": "i7T-9nMYE1Al"
      },
      "outputs": [],
      "source": []
    },
    {
      "cell_type": "code",
      "execution_count": null,
      "metadata": {
        "id": "UjE88mpOE0XW"
      },
      "outputs": [],
      "source": [
        "pip install flask\n"
      ]
    },
    {
      "cell_type": "code",
      "execution_count": null,
      "metadata": {
        "id": "M-j9sKDAE0Qo"
      },
      "outputs": [],
      "source": [
        "from flask import Flask, request, jsonify\n",
        "from transformers import pipeline\n",
        "\n",
        "# Initialize the Flask app\n",
        "app = Flask(__name__)\n",
        "\n",
        "# Load the pre-trained model for summarization or response generation\n",
        "summarizer = pipeline(\"summarization\", model=\"facebook/bart-large-cnn\")  # Replace with model as needed\n",
        "generator = pipeline(\"text-generation\", model=\"gpt2\")  # Replace with the chosen response model\n",
        "\n",
        "@app.route(\"/summarize\", methods=[\"POST\"])\n",
        "def summarize():\n",
        "    # Get the email thread from the POST request\n",
        "    email_thread = request.json.get(\"email_thread\")\n",
        "\n",
        "    # Generate a summary\n",
        "    summary = summarizer(email_thread, max_length=100, min_length=30, do_sample=False)\n",
        "\n",
        "    # Extract and return the summary text\n",
        "    return jsonify({\"summary\": summary[0][\"summary_text\"]})\n",
        "\n",
        "@app.route(\"/generate_response\", methods=[\"POST\"])\n",
        "def generate_response():\n",
        "    # Get the email content from the POST request\n",
        "    email_content = request.json.get(\"email_content\")\n",
        "\n",
        "    # Generate a response\n",
        "    response = generator(email_content, max_length=50, num_return_sequences=1)\n",
        "\n",
        "    # Extract and return the generated response text\n",
        "    return jsonify({\"response\": response[0][\"generated_text\"]})\n",
        "\n",
        "if __name__ == \"__main__\":\n",
        "    app.run(debug=True)\n"
      ]
    },
    {
      "cell_type": "code",
      "source": [],
      "metadata": {
        "id": "yv80MRFLamm9"
      },
      "execution_count": null,
      "outputs": []
    },
    {
      "cell_type": "code",
      "source": [],
      "metadata": {
        "id": "tfgjS6vNamjb"
      },
      "execution_count": null,
      "outputs": []
    },
    {
      "cell_type": "code",
      "source": [],
      "metadata": {
        "id": "ajJq9m1tamfs"
      },
      "execution_count": null,
      "outputs": []
    },
    {
      "cell_type": "code",
      "source": [],
      "metadata": {
        "id": "mwib60bJamdI"
      },
      "execution_count": null,
      "outputs": []
    }
  ],
  "metadata": {
    "accelerator": "GPU",
    "colab": {
      "gpuType": "T4",
      "provenance": [],
      "include_colab_link": true
    },
    "kernelspec": {
      "display_name": "Python 3",
      "name": "python3"
    },
    "language_info": {
      "name": "python"
    }
  },
  "nbformat": 4,
  "nbformat_minor": 0
}