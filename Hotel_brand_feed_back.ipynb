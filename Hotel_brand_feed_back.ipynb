{
  "cells": [
    {
      "cell_type": "markdown",
      "metadata": {
        "id": "view-in-github",
        "colab_type": "text"
      },
      "source": [
        "<a href=\"https://colab.research.google.com/github/muniprasadreddy/my-colab_work/blob/main/Hotel_brand_feed_back.ipynb\" target=\"_parent\"><img src=\"https://colab.research.google.com/assets/colab-badge.svg\" alt=\"Open In Colab\"/></a>"
      ]
    },
    {
      "cell_type": "markdown",
      "source": [
        "# **problem statement:**\n",
        " A worldwide hotel brand wants to comprehend the customer feedback they have collected.\n",
        "The feedback comprises textual reviews from different sources, such as online websites,\n",
        "surveys, and social media. They want to find out how happy or unhappy the customers are\n",
        "with the hotel services. We require you to examine the feedback and evaluate the customer\n",
        "satisfaction level. Design and code a solution using Python and machine learning. Please\n",
        "provide well-documented code, a model if any, and clear instructions to run the code."
      ],
      "metadata": {
        "id": "khXagHldl2tv"
      }
    },
    {
      "cell_type": "code",
      "source": [
        "import numpy as np\n",
        "import pandas as pd\n",
        "import seaborn as sns\n",
        "from nltk.sentiment.vader import SentimentIntensityAnalyzer\n",
        "from textblob import TextBlob\n",
        "import matplotlib.pyplot as plt\n",
        "%matplotlib inline\n",
        "import re\n",
        "import random\n",
        "plt.style.use(\"ggplot\")\n"
      ],
      "metadata": {
        "id": "AOizmndOmFwZ"
      },
      "execution_count": null,
      "outputs": []
    },
    {
      "cell_type": "code",
      "source": [
        "from bs4 import BeautifulSoup\n",
        "from nltk.corpus import stopwords\n",
        "from nltk.stem.porter import PorterStemmer\n",
        "from nltk.stem.snowball import SnowballStemmer\n",
        "english_stemmer=SnowballStemmer('english')\n",
        "import nltk\n",
        "nltk.download('punkt')\n",
        "nltk.download('wordnet')\n",
        "from nltk import word_tokenize\n",
        "from nltk.stem import WordNetLemmatizer\n",
        "import nltk\n",
        "nltk.download('stopwords')"
      ],
      "metadata": {
        "colab": {
          "base_uri": "https://localhost:8080/"
        },
        "id": "f5iTYfqQmFsi",
        "outputId": "d3d19a11-bf0b-44c2-e344-04ad744e853c"
      },
      "execution_count": null,
      "outputs": [
        {
          "output_type": "stream",
          "name": "stderr",
          "text": [
            "[nltk_data] Downloading package punkt to /root/nltk_data...\n",
            "[nltk_data]   Package punkt is already up-to-date!\n",
            "[nltk_data] Downloading package wordnet to /root/nltk_data...\n",
            "[nltk_data]   Package wordnet is already up-to-date!\n",
            "[nltk_data] Downloading package stopwords to /root/nltk_data...\n",
            "[nltk_data]   Unzipping corpora/stopwords.zip.\n"
          ]
        },
        {
          "output_type": "execute_result",
          "data": {
            "text/plain": [
              "True"
            ]
          },
          "metadata": {},
          "execution_count": 22
        }
      ]
    },
    {
      "cell_type": "code",
      "source": [
        "data =pd.read_csv('/content/yelp_ratings.csv')"
      ],
      "metadata": {
        "id": "BBhk49NAmFnx"
      },
      "execution_count": null,
      "outputs": []
    },
    {
      "cell_type": "code",
      "source": [
        "print(\"Initial Memory Usage:\")\n",
        "print(\"Memory used in MB\" ,data.memory_usage(deep=True).sum()/(1024*1024))\n",
        "pre=data.memory_usage(deep=True).sum()/(1024*1024)\n",
        "# Step 3: Identify columns for optimization\n",
        "# For example, let's say we want to convert all int columns to int32 and all float columns to float32\n",
        "int_columns = data.select_dtypes(include='int').columns\n",
        "float_columns = data.select_dtypes(include='float').columns\n",
        "for col in int_columns:\n",
        "    c_min=data[col].min()\n",
        "    c_max=data[col].max()\n",
        "    if c_min > np.iinfo(np.int8).min and c_max < np.iinfo(np.int8).max:\n",
        "              data[col] = data[col].astype(np.int8)\n",
        "    elif c_min > np.iinfo(np.int16).min and c_max < np.iinfo(np.int16).max:\n",
        "        data[col] = data[col].astype(np.int16)\n",
        "    elif c_min > np.iinfo(np.int32).min and c_max < np.iinfo(np.int32).max:\n",
        "        data[col] = data[col].astype(np.int32)\n",
        "    elif c_min > np.iinfo(np.int64).min and c_max < np.iinfo(np.int64).max:\n",
        "        data[col] = data[col].astype(np.int64)\n",
        "for col in float_columns:\n",
        "  c_min=data[col].min()\n",
        "  c_max=data[col].max()\n",
        "  if c_min > np.finfo(np.float16).min and c_max < np.finfo(np.float16).max:\n",
        "                data[col] = data[col].astype(np.float16)\n",
        "  elif c_min > np.finfo(np.float32).min and c_max < np.finfo(np.float32).max:\n",
        "      data[col] = data[col].astype(np.float32)\n",
        "  else:\n",
        "      data[col] = data[col].astype(np.float64)\n",
        "print(\"Optimized Memory:\")\n",
        "print(\"Memory used in MB\" ,data.memory_usage(deep=True).sum()/(1024*1024))\n",
        "post=data.memory_usage(deep=True).sum()/(1024*1024)\n",
        "print(\"++++++++++++++++++++++++\")\n",
        "print(\"lift in memory\",((post-pre)/pre)*100)"
      ],
      "metadata": {
        "colab": {
          "base_uri": "https://localhost:8080/"
        },
        "id": "W3yUn4ORp3gh",
        "outputId": "a66f3ed5-2984-410e-c143-1e2f5e232a49"
      },
      "execution_count": null,
      "outputs": [
        {
          "output_type": "stream",
          "name": "stdout",
          "text": [
            "Initial Memory Usage:\n",
            "Memory used in MB 27.420183181762695\n",
            "Optimized Memory:\n",
            "Memory used in MB 26.86811065673828\n",
            "++++++++++++++++++++++++\n",
            "lift in memory -2.0133801490852195\n"
          ]
        }
      ]
    },
    {
      "cell_type": "code",
      "source": [
        "data.head()"
      ],
      "metadata": {
        "colab": {
          "base_uri": "https://localhost:8080/",
          "height": 206
        },
        "id": "a9Kw2HC8oxFb",
        "outputId": "bb42a8bd-147d-40a3-bc5d-fa311581a06b"
      },
      "execution_count": null,
      "outputs": [
        {
          "output_type": "execute_result",
          "data": {
            "text/plain": [
              "                                                text  stars  sentiment\n",
              "0  Total bill for this horrible service? Over $8G...    1.0          0\n",
              "1  I *adore* Travis at the Hard Rock's new Kelly ...    5.0          1\n",
              "2  I have to say that this office really has it t...    5.0          1\n",
              "3  Went in for a lunch. Steak sandwich was delici...    5.0          1\n",
              "4  Today was my second out of three sessions I ha...    1.0          0"
            ],
            "text/html": [
              "\n",
              "  <div id=\"df-f7e6c328-fa4f-422e-8a3f-cf866c915ad3\" class=\"colab-df-container\">\n",
              "    <div>\n",
              "<style scoped>\n",
              "    .dataframe tbody tr th:only-of-type {\n",
              "        vertical-align: middle;\n",
              "    }\n",
              "\n",
              "    .dataframe tbody tr th {\n",
              "        vertical-align: top;\n",
              "    }\n",
              "\n",
              "    .dataframe thead th {\n",
              "        text-align: right;\n",
              "    }\n",
              "</style>\n",
              "<table border=\"1\" class=\"dataframe\">\n",
              "  <thead>\n",
              "    <tr style=\"text-align: right;\">\n",
              "      <th></th>\n",
              "      <th>text</th>\n",
              "      <th>stars</th>\n",
              "      <th>sentiment</th>\n",
              "    </tr>\n",
              "  </thead>\n",
              "  <tbody>\n",
              "    <tr>\n",
              "      <th>0</th>\n",
              "      <td>Total bill for this horrible service? Over $8G...</td>\n",
              "      <td>1.0</td>\n",
              "      <td>0</td>\n",
              "    </tr>\n",
              "    <tr>\n",
              "      <th>1</th>\n",
              "      <td>I *adore* Travis at the Hard Rock's new Kelly ...</td>\n",
              "      <td>5.0</td>\n",
              "      <td>1</td>\n",
              "    </tr>\n",
              "    <tr>\n",
              "      <th>2</th>\n",
              "      <td>I have to say that this office really has it t...</td>\n",
              "      <td>5.0</td>\n",
              "      <td>1</td>\n",
              "    </tr>\n",
              "    <tr>\n",
              "      <th>3</th>\n",
              "      <td>Went in for a lunch. Steak sandwich was delici...</td>\n",
              "      <td>5.0</td>\n",
              "      <td>1</td>\n",
              "    </tr>\n",
              "    <tr>\n",
              "      <th>4</th>\n",
              "      <td>Today was my second out of three sessions I ha...</td>\n",
              "      <td>1.0</td>\n",
              "      <td>0</td>\n",
              "    </tr>\n",
              "  </tbody>\n",
              "</table>\n",
              "</div>\n",
              "    <div class=\"colab-df-buttons\">\n",
              "\n",
              "  <div class=\"colab-df-container\">\n",
              "    <button class=\"colab-df-convert\" onclick=\"convertToInteractive('df-f7e6c328-fa4f-422e-8a3f-cf866c915ad3')\"\n",
              "            title=\"Convert this dataframe to an interactive table.\"\n",
              "            style=\"display:none;\">\n",
              "\n",
              "  <svg xmlns=\"http://www.w3.org/2000/svg\" height=\"24px\" viewBox=\"0 -960 960 960\">\n",
              "    <path d=\"M120-120v-720h720v720H120Zm60-500h600v-160H180v160Zm220 220h160v-160H400v160Zm0 220h160v-160H400v160ZM180-400h160v-160H180v160Zm440 0h160v-160H620v160ZM180-180h160v-160H180v160Zm440 0h160v-160H620v160Z\"/>\n",
              "  </svg>\n",
              "    </button>\n",
              "\n",
              "  <style>\n",
              "    .colab-df-container {\n",
              "      display:flex;\n",
              "      gap: 12px;\n",
              "    }\n",
              "\n",
              "    .colab-df-convert {\n",
              "      background-color: #E8F0FE;\n",
              "      border: none;\n",
              "      border-radius: 50%;\n",
              "      cursor: pointer;\n",
              "      display: none;\n",
              "      fill: #1967D2;\n",
              "      height: 32px;\n",
              "      padding: 0 0 0 0;\n",
              "      width: 32px;\n",
              "    }\n",
              "\n",
              "    .colab-df-convert:hover {\n",
              "      background-color: #E2EBFA;\n",
              "      box-shadow: 0px 1px 2px rgba(60, 64, 67, 0.3), 0px 1px 3px 1px rgba(60, 64, 67, 0.15);\n",
              "      fill: #174EA6;\n",
              "    }\n",
              "\n",
              "    .colab-df-buttons div {\n",
              "      margin-bottom: 4px;\n",
              "    }\n",
              "\n",
              "    [theme=dark] .colab-df-convert {\n",
              "      background-color: #3B4455;\n",
              "      fill: #D2E3FC;\n",
              "    }\n",
              "\n",
              "    [theme=dark] .colab-df-convert:hover {\n",
              "      background-color: #434B5C;\n",
              "      box-shadow: 0px 1px 3px 1px rgba(0, 0, 0, 0.15);\n",
              "      filter: drop-shadow(0px 1px 2px rgba(0, 0, 0, 0.3));\n",
              "      fill: #FFFFFF;\n",
              "    }\n",
              "  </style>\n",
              "\n",
              "    <script>\n",
              "      const buttonEl =\n",
              "        document.querySelector('#df-f7e6c328-fa4f-422e-8a3f-cf866c915ad3 button.colab-df-convert');\n",
              "      buttonEl.style.display =\n",
              "        google.colab.kernel.accessAllowed ? 'block' : 'none';\n",
              "\n",
              "      async function convertToInteractive(key) {\n",
              "        const element = document.querySelector('#df-f7e6c328-fa4f-422e-8a3f-cf866c915ad3');\n",
              "        const dataTable =\n",
              "          await google.colab.kernel.invokeFunction('convertToInteractive',\n",
              "                                                    [key], {});\n",
              "        if (!dataTable) return;\n",
              "\n",
              "        const docLinkHtml = 'Like what you see? Visit the ' +\n",
              "          '<a target=\"_blank\" href=https://colab.research.google.com/notebooks/data_table.ipynb>data table notebook</a>'\n",
              "          + ' to learn more about interactive tables.';\n",
              "        element.innerHTML = '';\n",
              "        dataTable['output_type'] = 'display_data';\n",
              "        await google.colab.output.renderOutput(dataTable, element);\n",
              "        const docLink = document.createElement('div');\n",
              "        docLink.innerHTML = docLinkHtml;\n",
              "        element.appendChild(docLink);\n",
              "      }\n",
              "    </script>\n",
              "  </div>\n",
              "\n",
              "\n",
              "<div id=\"df-f10ee300-3872-42b2-bc42-610108dcbd4d\">\n",
              "  <button class=\"colab-df-quickchart\" onclick=\"quickchart('df-f10ee300-3872-42b2-bc42-610108dcbd4d')\"\n",
              "            title=\"Suggest charts\"\n",
              "            style=\"display:none;\">\n",
              "\n",
              "<svg xmlns=\"http://www.w3.org/2000/svg\" height=\"24px\"viewBox=\"0 0 24 24\"\n",
              "     width=\"24px\">\n",
              "    <g>\n",
              "        <path d=\"M19 3H5c-1.1 0-2 .9-2 2v14c0 1.1.9 2 2 2h14c1.1 0 2-.9 2-2V5c0-1.1-.9-2-2-2zM9 17H7v-7h2v7zm4 0h-2V7h2v10zm4 0h-2v-4h2v4z\"/>\n",
              "    </g>\n",
              "</svg>\n",
              "  </button>\n",
              "\n",
              "<style>\n",
              "  .colab-df-quickchart {\n",
              "      --bg-color: #E8F0FE;\n",
              "      --fill-color: #1967D2;\n",
              "      --hover-bg-color: #E2EBFA;\n",
              "      --hover-fill-color: #174EA6;\n",
              "      --disabled-fill-color: #AAA;\n",
              "      --disabled-bg-color: #DDD;\n",
              "  }\n",
              "\n",
              "  [theme=dark] .colab-df-quickchart {\n",
              "      --bg-color: #3B4455;\n",
              "      --fill-color: #D2E3FC;\n",
              "      --hover-bg-color: #434B5C;\n",
              "      --hover-fill-color: #FFFFFF;\n",
              "      --disabled-bg-color: #3B4455;\n",
              "      --disabled-fill-color: #666;\n",
              "  }\n",
              "\n",
              "  .colab-df-quickchart {\n",
              "    background-color: var(--bg-color);\n",
              "    border: none;\n",
              "    border-radius: 50%;\n",
              "    cursor: pointer;\n",
              "    display: none;\n",
              "    fill: var(--fill-color);\n",
              "    height: 32px;\n",
              "    padding: 0;\n",
              "    width: 32px;\n",
              "  }\n",
              "\n",
              "  .colab-df-quickchart:hover {\n",
              "    background-color: var(--hover-bg-color);\n",
              "    box-shadow: 0 1px 2px rgba(60, 64, 67, 0.3), 0 1px 3px 1px rgba(60, 64, 67, 0.15);\n",
              "    fill: var(--button-hover-fill-color);\n",
              "  }\n",
              "\n",
              "  .colab-df-quickchart-complete:disabled,\n",
              "  .colab-df-quickchart-complete:disabled:hover {\n",
              "    background-color: var(--disabled-bg-color);\n",
              "    fill: var(--disabled-fill-color);\n",
              "    box-shadow: none;\n",
              "  }\n",
              "\n",
              "  .colab-df-spinner {\n",
              "    border: 2px solid var(--fill-color);\n",
              "    border-color: transparent;\n",
              "    border-bottom-color: var(--fill-color);\n",
              "    animation:\n",
              "      spin 1s steps(1) infinite;\n",
              "  }\n",
              "\n",
              "  @keyframes spin {\n",
              "    0% {\n",
              "      border-color: transparent;\n",
              "      border-bottom-color: var(--fill-color);\n",
              "      border-left-color: var(--fill-color);\n",
              "    }\n",
              "    20% {\n",
              "      border-color: transparent;\n",
              "      border-left-color: var(--fill-color);\n",
              "      border-top-color: var(--fill-color);\n",
              "    }\n",
              "    30% {\n",
              "      border-color: transparent;\n",
              "      border-left-color: var(--fill-color);\n",
              "      border-top-color: var(--fill-color);\n",
              "      border-right-color: var(--fill-color);\n",
              "    }\n",
              "    40% {\n",
              "      border-color: transparent;\n",
              "      border-right-color: var(--fill-color);\n",
              "      border-top-color: var(--fill-color);\n",
              "    }\n",
              "    60% {\n",
              "      border-color: transparent;\n",
              "      border-right-color: var(--fill-color);\n",
              "    }\n",
              "    80% {\n",
              "      border-color: transparent;\n",
              "      border-right-color: var(--fill-color);\n",
              "      border-bottom-color: var(--fill-color);\n",
              "    }\n",
              "    90% {\n",
              "      border-color: transparent;\n",
              "      border-bottom-color: var(--fill-color);\n",
              "    }\n",
              "  }\n",
              "</style>\n",
              "\n",
              "  <script>\n",
              "    async function quickchart(key) {\n",
              "      const quickchartButtonEl =\n",
              "        document.querySelector('#' + key + ' button');\n",
              "      quickchartButtonEl.disabled = true;  // To prevent multiple clicks.\n",
              "      quickchartButtonEl.classList.add('colab-df-spinner');\n",
              "      try {\n",
              "        const charts = await google.colab.kernel.invokeFunction(\n",
              "            'suggestCharts', [key], {});\n",
              "      } catch (error) {\n",
              "        console.error('Error during call to suggestCharts:', error);\n",
              "      }\n",
              "      quickchartButtonEl.classList.remove('colab-df-spinner');\n",
              "      quickchartButtonEl.classList.add('colab-df-quickchart-complete');\n",
              "    }\n",
              "    (() => {\n",
              "      let quickchartButtonEl =\n",
              "        document.querySelector('#df-f10ee300-3872-42b2-bc42-610108dcbd4d button');\n",
              "      quickchartButtonEl.style.display =\n",
              "        google.colab.kernel.accessAllowed ? 'block' : 'none';\n",
              "    })();\n",
              "  </script>\n",
              "</div>\n",
              "\n",
              "    </div>\n",
              "  </div>\n"
            ],
            "application/vnd.google.colaboratory.intrinsic+json": {
              "type": "dataframe",
              "variable_name": "data",
              "summary": "{\n  \"name\": \"data\",\n  \"rows\": 44530,\n  \"fields\": [\n    {\n      \"column\": \"text\",\n      \"properties\": {\n        \"dtype\": \"string\",\n        \"num_unique_values\": 44517,\n        \"samples\": [\n          \"Walked in on a Sunday morning. Place was pretty busy but several tables were open.  We sat there for about 15 minutes. Nobody approached us. An older gentleman, who is obviously a regular came in after us and was waited on and given coffee. Lots of staff shooting the breeze with regulars, nobody approached us. Mind you, this is not a big place.  When we thought about how long it's taking to get waited on, how long would it be until we were eating.  We left. Unless you're a regular don't wast your time.\",\n          \"Took my boyfriend who is visiting from out of continent for a haircut before we boogie over to Chicago for a wedding this weekend. We loved the place. We made an appointment with Andy, who was super welcoming and down to earth. I was going to wait in the car -- I was the only female out of the 10 guys in there -- but they were adamant that it would be no problem for me to wait in the air conditioning,& welcomed me to make myself comfortable in their waiting area. Andy did a really excellent job with my boyfriends hair, and chatted and made him feel comfortable the whole time. Even the barber across the room (Luke, maybe?) was cracking jokes with him. Great guys, great service, great haircut. We weren't aware that it was cash only (it would be good if hey had a more visible sign or something) but even when I offered to run to an atm to grab the $3 we were short, Andy wouldn't hear of it. He took what we had and told us to have a great day! So lovely of him. James was really really happy with how his cut looked and how it felt. Super clean, really good looking cut. Well done, Andy. Our go-to spot for a haircut when James is here again!\",\n          \"Great Coffee, Great Crew!! Relaxing, No LOUD annoying Music. Calm, best Starbucks ever!\\nCoffee always ready when they open,not like some other Starbucks locations. Always a pleasure to go to.\\nSue from Chandler\"\n        ],\n        \"semantic_type\": \"\",\n        \"description\": \"\"\n      }\n    },\n    {\n      \"column\": \"stars\",\n      \"properties\": {\n        \"dtype\": \"float16\",\n        \"num_unique_values\": 4,\n        \"samples\": [\n          5.0,\n          2.0,\n          1.0\n        ],\n        \"semantic_type\": \"\",\n        \"description\": \"\"\n      }\n    },\n    {\n      \"column\": \"sentiment\",\n      \"properties\": {\n        \"dtype\": \"int8\",\n        \"num_unique_values\": 2,\n        \"samples\": [\n          1,\n          0\n        ],\n        \"semantic_type\": \"\",\n        \"description\": \"\"\n      }\n    }\n  ]\n}"
            }
          },
          "metadata": {},
          "execution_count": 8
        }
      ]
    },
    {
      "cell_type": "code",
      "source": [
        "data.columns"
      ],
      "metadata": {
        "colab": {
          "base_uri": "https://localhost:8080/"
        },
        "id": "yxT81o1sqOpa",
        "outputId": "b5efb9e4-4bac-488d-dbc6-5ac57032a20a"
      },
      "execution_count": null,
      "outputs": [
        {
          "output_type": "execute_result",
          "data": {
            "text/plain": [
              "Index(['text', 'stars', 'sentiment'], dtype='object')"
            ]
          },
          "metadata": {},
          "execution_count": 9
        }
      ]
    },
    {
      "cell_type": "code",
      "source": [
        "data.shape"
      ],
      "metadata": {
        "colab": {
          "base_uri": "https://localhost:8080/"
        },
        "id": "4hTKTAk7o-rF",
        "outputId": "04321c19-9ee8-4f34-dcd8-cc932b3595ac"
      },
      "execution_count": null,
      "outputs": [
        {
          "output_type": "execute_result",
          "data": {
            "text/plain": [
              "(44530, 3)"
            ]
          },
          "metadata": {},
          "execution_count": 10
        }
      ]
    },
    {
      "cell_type": "code",
      "source": [
        "data.isna().sum()"
      ],
      "metadata": {
        "colab": {
          "base_uri": "https://localhost:8080/"
        },
        "id": "lGwU2wvApEB_",
        "outputId": "c0a8a067-0837-484f-c987-7fa36227f3eb"
      },
      "execution_count": null,
      "outputs": [
        {
          "output_type": "execute_result",
          "data": {
            "text/plain": [
              "text         0\n",
              "stars        0\n",
              "sentiment    0\n",
              "dtype: int64"
            ]
          },
          "metadata": {},
          "execution_count": 11
        }
      ]
    },
    {
      "cell_type": "code",
      "source": [
        "data['stars'].value_counts()"
      ],
      "metadata": {
        "colab": {
          "base_uri": "https://localhost:8080/"
        },
        "id": "E4f_L-VMpTTY",
        "outputId": "1dfeeed0-d58c-46be-a2a6-b5e8254d690d"
      },
      "execution_count": null,
      "outputs": [
        {
          "output_type": "execute_result",
          "data": {
            "text/plain": [
              "5.0    22270\n",
              "4.0    11061\n",
              "1.0     7244\n",
              "2.0     3955\n",
              "Name: stars, dtype: int64"
            ]
          },
          "metadata": {},
          "execution_count": 12
        }
      ]
    },
    {
      "cell_type": "code",
      "source": [
        "data['sentiment'].value_counts()"
      ],
      "metadata": {
        "colab": {
          "base_uri": "https://localhost:8080/"
        },
        "id": "adUS4CWcpjkQ",
        "outputId": "c5e1cd05-c675-4172-e92c-7a70ec919b15"
      },
      "execution_count": null,
      "outputs": [
        {
          "output_type": "execute_result",
          "data": {
            "text/plain": [
              "1    33331\n",
              "0    11199\n",
              "Name: sentiment, dtype: int64"
            ]
          },
          "metadata": {},
          "execution_count": 13
        }
      ]
    },
    {
      "cell_type": "markdown",
      "source": [
        "\n",
        "**10 derived columns based on the existing columns:**\n",
        "\n",
        "\n",
        "Word Count: Number of words in the text.\n",
        "\n",
        "Character Count: Number of characters in the text.\n",
        "\n",
        "Average Word Length: Average length of words in the text.\n",
        "\n",
        "Positive Sentiment Indicator: Binary indicator (1 or 0) based on positive sentiment.\n",
        "\n",
        "Negative Sentiment Indicator: Binary indicator (1 or 0) based on negative sentiment.\n",
        "\n",
        "Neutral Sentiment Indicator: Binary indicator (1 or 0) based on neutral sentiment.\n",
        "\n",
        "High Rating Indicator: Binary indicator (1 or 0) based on a high star rating (e.g., 4 or 5 stars).\n",
        "\n",
        "Low Rating Indicator: Binary indicator (1 or 0) based on a low star rating (e.g., 1 or 2 stars).\n",
        "\n",
        "Text Polarity: Polarity of the text using sentiment analysis.\n",
        "\n",
        "Text Subjectivity: Subjectivity of the text using sentiment analysis.\n",
        "\n"
      ],
      "metadata": {
        "id": "07bVJ2pdr1B8"
      }
    },
    {
      "cell_type": "code",
      "source": [
        "# Function to calculate word count\n",
        "def word_count(text):\n",
        "    return len(text.split())\n",
        "\n",
        "# Function to calculate character count\n",
        "def character_count(text):\n",
        "    return len(text)\n",
        "\n",
        "# Function to calculate average word length\n",
        "def avg_word_length(text):\n",
        "    words = text.split()\n",
        "    return sum(len(word) for word in words) / len(words)\n",
        "\n",
        "# Function to calculate sentiment indicators\n",
        "def sentiment_indicator(sentiment_type, sentiment):\n",
        "    return 1 if sentiment == sentiment_type else 0\n",
        "\n",
        "# Function to calculate polarity and subjectivity\n",
        "def calculate_sentiment(text):\n",
        "    analysis = TextBlob(text)\n",
        "    return analysis.sentiment.polarity, analysis.sentiment.subjectivity\n",
        "\n"
      ],
      "metadata": {
        "id": "vLarGF8wtAPZ"
      },
      "execution_count": null,
      "outputs": []
    },
    {
      "cell_type": "code",
      "source": [
        "data['word_count'] = data['text'].apply(word_count)\n",
        "data['character_count'] = data['text'].apply(character_count)\n",
        "data['avg_word_length'] = data['text'].apply(avg_word_length)\n",
        "data['positive_sentiment'] = data['sentiment'].apply(lambda x: sentiment_indicator('positive', x))\n",
        "data['negative_sentiment'] = data['sentiment'].apply(lambda x: sentiment_indicator('negative', x))\n",
        "data['neutral_sentiment'] = data['sentiment'].apply(lambda x: sentiment_indicator('neutral', x))\n",
        "data['high_rating'] = data['stars'].apply(lambda x: 1 if x >= 4 else 0)\n",
        "data['low_rating'] = data['stars'].apply(lambda x: 1 if x <= 2 else 0)\n",
        "data['text_polarity'], data['text_subjectivity'] = zip(*data['text'].apply(calculate_sentiment))\n",
        "\n"
      ],
      "metadata": {
        "id": "uz4f_99jsiC1"
      },
      "execution_count": null,
      "outputs": []
    },
    {
      "cell_type": "code",
      "source": [
        "data.head()"
      ],
      "metadata": {
        "colab": {
          "base_uri": "https://localhost:8080/",
          "height": 694
        },
        "id": "iOvVKWZjuf2C",
        "outputId": "c2260813-91c3-4de0-9e0d-f2a65135a8bc"
      },
      "execution_count": null,
      "outputs": [
        {
          "output_type": "execute_result",
          "data": {
            "text/plain": [
              "                                                text  stars  sentiment  \\\n",
              "0  Total bill for this horrible service? Over $8G...    1.0          0   \n",
              "1  I *adore* Travis at the Hard Rock's new Kelly ...    5.0          1   \n",
              "2  I have to say that this office really has it t...    5.0          1   \n",
              "3  Went in for a lunch. Steak sandwich was delici...    5.0          1   \n",
              "4  Today was my second out of three sessions I ha...    1.0          0   \n",
              "\n",
              "   word_count  character_count  avg_word_length  positive_sentiment  \\\n",
              "0          39              204         4.256410                   0   \n",
              "1         274             1561         4.627737                   0   \n",
              "2         109              615         4.614679                   0   \n",
              "3          68              407         4.955882                   0   \n",
              "4         673             3509         4.215453                   0   \n",
              "\n",
              "   negative_sentiment  neutral_sentiment  high_rating  low_rating  \\\n",
              "0                   0                  0            0           1   \n",
              "1                   0                  0            1           0   \n",
              "2                   0                  0            1           0   \n",
              "3                   0                  0            1           0   \n",
              "4                   0                  0            0           1   \n",
              "\n",
              "   text_polarity  text_subjectivity  \n",
              "0      -0.333333           0.616667  \n",
              "1       0.315810           0.536668  \n",
              "2       0.429125           0.584000  \n",
              "3       0.832500           0.885000  \n",
              "4       0.049277           0.432407  "
            ],
            "text/html": [
              "\n",
              "  <div id=\"df-48ca8dee-c660-49bf-9661-5261210b6aaf\" class=\"colab-df-container\">\n",
              "    <div>\n",
              "<style scoped>\n",
              "    .dataframe tbody tr th:only-of-type {\n",
              "        vertical-align: middle;\n",
              "    }\n",
              "\n",
              "    .dataframe tbody tr th {\n",
              "        vertical-align: top;\n",
              "    }\n",
              "\n",
              "    .dataframe thead th {\n",
              "        text-align: right;\n",
              "    }\n",
              "</style>\n",
              "<table border=\"1\" class=\"dataframe\">\n",
              "  <thead>\n",
              "    <tr style=\"text-align: right;\">\n",
              "      <th></th>\n",
              "      <th>text</th>\n",
              "      <th>stars</th>\n",
              "      <th>sentiment</th>\n",
              "      <th>word_count</th>\n",
              "      <th>character_count</th>\n",
              "      <th>avg_word_length</th>\n",
              "      <th>positive_sentiment</th>\n",
              "      <th>negative_sentiment</th>\n",
              "      <th>neutral_sentiment</th>\n",
              "      <th>high_rating</th>\n",
              "      <th>low_rating</th>\n",
              "      <th>text_polarity</th>\n",
              "      <th>text_subjectivity</th>\n",
              "    </tr>\n",
              "  </thead>\n",
              "  <tbody>\n",
              "    <tr>\n",
              "      <th>0</th>\n",
              "      <td>Total bill for this horrible service? Over $8G...</td>\n",
              "      <td>1.0</td>\n",
              "      <td>0</td>\n",
              "      <td>39</td>\n",
              "      <td>204</td>\n",
              "      <td>4.256410</td>\n",
              "      <td>0</td>\n",
              "      <td>0</td>\n",
              "      <td>0</td>\n",
              "      <td>0</td>\n",
              "      <td>1</td>\n",
              "      <td>-0.333333</td>\n",
              "      <td>0.616667</td>\n",
              "    </tr>\n",
              "    <tr>\n",
              "      <th>1</th>\n",
              "      <td>I *adore* Travis at the Hard Rock's new Kelly ...</td>\n",
              "      <td>5.0</td>\n",
              "      <td>1</td>\n",
              "      <td>274</td>\n",
              "      <td>1561</td>\n",
              "      <td>4.627737</td>\n",
              "      <td>0</td>\n",
              "      <td>0</td>\n",
              "      <td>0</td>\n",
              "      <td>1</td>\n",
              "      <td>0</td>\n",
              "      <td>0.315810</td>\n",
              "      <td>0.536668</td>\n",
              "    </tr>\n",
              "    <tr>\n",
              "      <th>2</th>\n",
              "      <td>I have to say that this office really has it t...</td>\n",
              "      <td>5.0</td>\n",
              "      <td>1</td>\n",
              "      <td>109</td>\n",
              "      <td>615</td>\n",
              "      <td>4.614679</td>\n",
              "      <td>0</td>\n",
              "      <td>0</td>\n",
              "      <td>0</td>\n",
              "      <td>1</td>\n",
              "      <td>0</td>\n",
              "      <td>0.429125</td>\n",
              "      <td>0.584000</td>\n",
              "    </tr>\n",
              "    <tr>\n",
              "      <th>3</th>\n",
              "      <td>Went in for a lunch. Steak sandwich was delici...</td>\n",
              "      <td>5.0</td>\n",
              "      <td>1</td>\n",
              "      <td>68</td>\n",
              "      <td>407</td>\n",
              "      <td>4.955882</td>\n",
              "      <td>0</td>\n",
              "      <td>0</td>\n",
              "      <td>0</td>\n",
              "      <td>1</td>\n",
              "      <td>0</td>\n",
              "      <td>0.832500</td>\n",
              "      <td>0.885000</td>\n",
              "    </tr>\n",
              "    <tr>\n",
              "      <th>4</th>\n",
              "      <td>Today was my second out of three sessions I ha...</td>\n",
              "      <td>1.0</td>\n",
              "      <td>0</td>\n",
              "      <td>673</td>\n",
              "      <td>3509</td>\n",
              "      <td>4.215453</td>\n",
              "      <td>0</td>\n",
              "      <td>0</td>\n",
              "      <td>0</td>\n",
              "      <td>0</td>\n",
              "      <td>1</td>\n",
              "      <td>0.049277</td>\n",
              "      <td>0.432407</td>\n",
              "    </tr>\n",
              "  </tbody>\n",
              "</table>\n",
              "</div>\n",
              "    <div class=\"colab-df-buttons\">\n",
              "\n",
              "  <div class=\"colab-df-container\">\n",
              "    <button class=\"colab-df-convert\" onclick=\"convertToInteractive('df-48ca8dee-c660-49bf-9661-5261210b6aaf')\"\n",
              "            title=\"Convert this dataframe to an interactive table.\"\n",
              "            style=\"display:none;\">\n",
              "\n",
              "  <svg xmlns=\"http://www.w3.org/2000/svg\" height=\"24px\" viewBox=\"0 -960 960 960\">\n",
              "    <path d=\"M120-120v-720h720v720H120Zm60-500h600v-160H180v160Zm220 220h160v-160H400v160Zm0 220h160v-160H400v160ZM180-400h160v-160H180v160Zm440 0h160v-160H620v160ZM180-180h160v-160H180v160Zm440 0h160v-160H620v160Z\"/>\n",
              "  </svg>\n",
              "    </button>\n",
              "\n",
              "  <style>\n",
              "    .colab-df-container {\n",
              "      display:flex;\n",
              "      gap: 12px;\n",
              "    }\n",
              "\n",
              "    .colab-df-convert {\n",
              "      background-color: #E8F0FE;\n",
              "      border: none;\n",
              "      border-radius: 50%;\n",
              "      cursor: pointer;\n",
              "      display: none;\n",
              "      fill: #1967D2;\n",
              "      height: 32px;\n",
              "      padding: 0 0 0 0;\n",
              "      width: 32px;\n",
              "    }\n",
              "\n",
              "    .colab-df-convert:hover {\n",
              "      background-color: #E2EBFA;\n",
              "      box-shadow: 0px 1px 2px rgba(60, 64, 67, 0.3), 0px 1px 3px 1px rgba(60, 64, 67, 0.15);\n",
              "      fill: #174EA6;\n",
              "    }\n",
              "\n",
              "    .colab-df-buttons div {\n",
              "      margin-bottom: 4px;\n",
              "    }\n",
              "\n",
              "    [theme=dark] .colab-df-convert {\n",
              "      background-color: #3B4455;\n",
              "      fill: #D2E3FC;\n",
              "    }\n",
              "\n",
              "    [theme=dark] .colab-df-convert:hover {\n",
              "      background-color: #434B5C;\n",
              "      box-shadow: 0px 1px 3px 1px rgba(0, 0, 0, 0.15);\n",
              "      filter: drop-shadow(0px 1px 2px rgba(0, 0, 0, 0.3));\n",
              "      fill: #FFFFFF;\n",
              "    }\n",
              "  </style>\n",
              "\n",
              "    <script>\n",
              "      const buttonEl =\n",
              "        document.querySelector('#df-48ca8dee-c660-49bf-9661-5261210b6aaf button.colab-df-convert');\n",
              "      buttonEl.style.display =\n",
              "        google.colab.kernel.accessAllowed ? 'block' : 'none';\n",
              "\n",
              "      async function convertToInteractive(key) {\n",
              "        const element = document.querySelector('#df-48ca8dee-c660-49bf-9661-5261210b6aaf');\n",
              "        const dataTable =\n",
              "          await google.colab.kernel.invokeFunction('convertToInteractive',\n",
              "                                                    [key], {});\n",
              "        if (!dataTable) return;\n",
              "\n",
              "        const docLinkHtml = 'Like what you see? Visit the ' +\n",
              "          '<a target=\"_blank\" href=https://colab.research.google.com/notebooks/data_table.ipynb>data table notebook</a>'\n",
              "          + ' to learn more about interactive tables.';\n",
              "        element.innerHTML = '';\n",
              "        dataTable['output_type'] = 'display_data';\n",
              "        await google.colab.output.renderOutput(dataTable, element);\n",
              "        const docLink = document.createElement('div');\n",
              "        docLink.innerHTML = docLinkHtml;\n",
              "        element.appendChild(docLink);\n",
              "      }\n",
              "    </script>\n",
              "  </div>\n",
              "\n",
              "\n",
              "<div id=\"df-3c2373d0-b96c-400e-bcf3-ad2c5f00a0a0\">\n",
              "  <button class=\"colab-df-quickchart\" onclick=\"quickchart('df-3c2373d0-b96c-400e-bcf3-ad2c5f00a0a0')\"\n",
              "            title=\"Suggest charts\"\n",
              "            style=\"display:none;\">\n",
              "\n",
              "<svg xmlns=\"http://www.w3.org/2000/svg\" height=\"24px\"viewBox=\"0 0 24 24\"\n",
              "     width=\"24px\">\n",
              "    <g>\n",
              "        <path d=\"M19 3H5c-1.1 0-2 .9-2 2v14c0 1.1.9 2 2 2h14c1.1 0 2-.9 2-2V5c0-1.1-.9-2-2-2zM9 17H7v-7h2v7zm4 0h-2V7h2v10zm4 0h-2v-4h2v4z\"/>\n",
              "    </g>\n",
              "</svg>\n",
              "  </button>\n",
              "\n",
              "<style>\n",
              "  .colab-df-quickchart {\n",
              "      --bg-color: #E8F0FE;\n",
              "      --fill-color: #1967D2;\n",
              "      --hover-bg-color: #E2EBFA;\n",
              "      --hover-fill-color: #174EA6;\n",
              "      --disabled-fill-color: #AAA;\n",
              "      --disabled-bg-color: #DDD;\n",
              "  }\n",
              "\n",
              "  [theme=dark] .colab-df-quickchart {\n",
              "      --bg-color: #3B4455;\n",
              "      --fill-color: #D2E3FC;\n",
              "      --hover-bg-color: #434B5C;\n",
              "      --hover-fill-color: #FFFFFF;\n",
              "      --disabled-bg-color: #3B4455;\n",
              "      --disabled-fill-color: #666;\n",
              "  }\n",
              "\n",
              "  .colab-df-quickchart {\n",
              "    background-color: var(--bg-color);\n",
              "    border: none;\n",
              "    border-radius: 50%;\n",
              "    cursor: pointer;\n",
              "    display: none;\n",
              "    fill: var(--fill-color);\n",
              "    height: 32px;\n",
              "    padding: 0;\n",
              "    width: 32px;\n",
              "  }\n",
              "\n",
              "  .colab-df-quickchart:hover {\n",
              "    background-color: var(--hover-bg-color);\n",
              "    box-shadow: 0 1px 2px rgba(60, 64, 67, 0.3), 0 1px 3px 1px rgba(60, 64, 67, 0.15);\n",
              "    fill: var(--button-hover-fill-color);\n",
              "  }\n",
              "\n",
              "  .colab-df-quickchart-complete:disabled,\n",
              "  .colab-df-quickchart-complete:disabled:hover {\n",
              "    background-color: var(--disabled-bg-color);\n",
              "    fill: var(--disabled-fill-color);\n",
              "    box-shadow: none;\n",
              "  }\n",
              "\n",
              "  .colab-df-spinner {\n",
              "    border: 2px solid var(--fill-color);\n",
              "    border-color: transparent;\n",
              "    border-bottom-color: var(--fill-color);\n",
              "    animation:\n",
              "      spin 1s steps(1) infinite;\n",
              "  }\n",
              "\n",
              "  @keyframes spin {\n",
              "    0% {\n",
              "      border-color: transparent;\n",
              "      border-bottom-color: var(--fill-color);\n",
              "      border-left-color: var(--fill-color);\n",
              "    }\n",
              "    20% {\n",
              "      border-color: transparent;\n",
              "      border-left-color: var(--fill-color);\n",
              "      border-top-color: var(--fill-color);\n",
              "    }\n",
              "    30% {\n",
              "      border-color: transparent;\n",
              "      border-left-color: var(--fill-color);\n",
              "      border-top-color: var(--fill-color);\n",
              "      border-right-color: var(--fill-color);\n",
              "    }\n",
              "    40% {\n",
              "      border-color: transparent;\n",
              "      border-right-color: var(--fill-color);\n",
              "      border-top-color: var(--fill-color);\n",
              "    }\n",
              "    60% {\n",
              "      border-color: transparent;\n",
              "      border-right-color: var(--fill-color);\n",
              "    }\n",
              "    80% {\n",
              "      border-color: transparent;\n",
              "      border-right-color: var(--fill-color);\n",
              "      border-bottom-color: var(--fill-color);\n",
              "    }\n",
              "    90% {\n",
              "      border-color: transparent;\n",
              "      border-bottom-color: var(--fill-color);\n",
              "    }\n",
              "  }\n",
              "</style>\n",
              "\n",
              "  <script>\n",
              "    async function quickchart(key) {\n",
              "      const quickchartButtonEl =\n",
              "        document.querySelector('#' + key + ' button');\n",
              "      quickchartButtonEl.disabled = true;  // To prevent multiple clicks.\n",
              "      quickchartButtonEl.classList.add('colab-df-spinner');\n",
              "      try {\n",
              "        const charts = await google.colab.kernel.invokeFunction(\n",
              "            'suggestCharts', [key], {});\n",
              "      } catch (error) {\n",
              "        console.error('Error during call to suggestCharts:', error);\n",
              "      }\n",
              "      quickchartButtonEl.classList.remove('colab-df-spinner');\n",
              "      quickchartButtonEl.classList.add('colab-df-quickchart-complete');\n",
              "    }\n",
              "    (() => {\n",
              "      let quickchartButtonEl =\n",
              "        document.querySelector('#df-3c2373d0-b96c-400e-bcf3-ad2c5f00a0a0 button');\n",
              "      quickchartButtonEl.style.display =\n",
              "        google.colab.kernel.accessAllowed ? 'block' : 'none';\n",
              "    })();\n",
              "  </script>\n",
              "</div>\n",
              "\n",
              "    </div>\n",
              "  </div>\n"
            ],
            "application/vnd.google.colaboratory.intrinsic+json": {
              "type": "dataframe",
              "variable_name": "data",
              "summary": "{\n  \"name\": \"data\",\n  \"rows\": 44530,\n  \"fields\": [\n    {\n      \"column\": \"text\",\n      \"properties\": {\n        \"dtype\": \"string\",\n        \"num_unique_values\": 44517,\n        \"samples\": [\n          \"Walked in on a Sunday morning. Place was pretty busy but several tables were open.  We sat there for about 15 minutes. Nobody approached us. An older gentleman, who is obviously a regular came in after us and was waited on and given coffee. Lots of staff shooting the breeze with regulars, nobody approached us. Mind you, this is not a big place.  When we thought about how long it's taking to get waited on, how long would it be until we were eating.  We left. Unless you're a regular don't wast your time.\",\n          \"Took my boyfriend who is visiting from out of continent for a haircut before we boogie over to Chicago for a wedding this weekend. We loved the place. We made an appointment with Andy, who was super welcoming and down to earth. I was going to wait in the car -- I was the only female out of the 10 guys in there -- but they were adamant that it would be no problem for me to wait in the air conditioning,& welcomed me to make myself comfortable in their waiting area. Andy did a really excellent job with my boyfriends hair, and chatted and made him feel comfortable the whole time. Even the barber across the room (Luke, maybe?) was cracking jokes with him. Great guys, great service, great haircut. We weren't aware that it was cash only (it would be good if hey had a more visible sign or something) but even when I offered to run to an atm to grab the $3 we were short, Andy wouldn't hear of it. He took what we had and told us to have a great day! So lovely of him. James was really really happy with how his cut looked and how it felt. Super clean, really good looking cut. Well done, Andy. Our go-to spot for a haircut when James is here again!\",\n          \"Great Coffee, Great Crew!! Relaxing, No LOUD annoying Music. Calm, best Starbucks ever!\\nCoffee always ready when they open,not like some other Starbucks locations. Always a pleasure to go to.\\nSue from Chandler\"\n        ],\n        \"semantic_type\": \"\",\n        \"description\": \"\"\n      }\n    },\n    {\n      \"column\": \"stars\",\n      \"properties\": {\n        \"dtype\": \"float16\",\n        \"num_unique_values\": 4,\n        \"samples\": [\n          5.0,\n          2.0,\n          1.0\n        ],\n        \"semantic_type\": \"\",\n        \"description\": \"\"\n      }\n    },\n    {\n      \"column\": \"sentiment\",\n      \"properties\": {\n        \"dtype\": \"int8\",\n        \"num_unique_values\": 2,\n        \"samples\": [\n          1,\n          0\n        ],\n        \"semantic_type\": \"\",\n        \"description\": \"\"\n      }\n    },\n    {\n      \"column\": \"word_count\",\n      \"properties\": {\n        \"dtype\": \"number\",\n        \"std\": 100,\n        \"min\": 1,\n        \"max\": 997,\n        \"num_unique_values\": 747,\n        \"samples\": [\n          449,\n          145\n        ],\n        \"semantic_type\": \"\",\n        \"description\": \"\"\n      }\n    },\n    {\n      \"column\": \"character_count\",\n      \"properties\": {\n        \"dtype\": \"number\",\n        \"std\": 538,\n        \"min\": 1,\n        \"max\": 5000,\n        \"num_unique_values\": 2765,\n        \"samples\": [\n          1671,\n          989\n        ],\n        \"semantic_type\": \"\",\n        \"description\": \"\"\n      }\n    },\n    {\n      \"column\": \"avg_word_length\",\n      \"properties\": {\n        \"dtype\": \"number\",\n        \"std\": 0.8411317187725632,\n        \"min\": 1.0,\n        \"max\": 112.0,\n        \"num_unique_values\": 12657,\n        \"samples\": [\n          4.533039647577093,\n          4.6299212598425195\n        ],\n        \"semantic_type\": \"\",\n        \"description\": \"\"\n      }\n    },\n    {\n      \"column\": \"positive_sentiment\",\n      \"properties\": {\n        \"dtype\": \"number\",\n        \"std\": 0,\n        \"min\": 0,\n        \"max\": 0,\n        \"num_unique_values\": 1,\n        \"samples\": [\n          0\n        ],\n        \"semantic_type\": \"\",\n        \"description\": \"\"\n      }\n    },\n    {\n      \"column\": \"negative_sentiment\",\n      \"properties\": {\n        \"dtype\": \"number\",\n        \"std\": 0,\n        \"min\": 0,\n        \"max\": 0,\n        \"num_unique_values\": 1,\n        \"samples\": [\n          0\n        ],\n        \"semantic_type\": \"\",\n        \"description\": \"\"\n      }\n    },\n    {\n      \"column\": \"neutral_sentiment\",\n      \"properties\": {\n        \"dtype\": \"number\",\n        \"std\": 0,\n        \"min\": 0,\n        \"max\": 0,\n        \"num_unique_values\": 1,\n        \"samples\": [\n          0\n        ],\n        \"semantic_type\": \"\",\n        \"description\": \"\"\n      }\n    },\n    {\n      \"column\": \"high_rating\",\n      \"properties\": {\n        \"dtype\": \"number\",\n        \"std\": 0,\n        \"min\": 0,\n        \"max\": 1,\n        \"num_unique_values\": 2,\n        \"samples\": [\n          1\n        ],\n        \"semantic_type\": \"\",\n        \"description\": \"\"\n      }\n    },\n    {\n      \"column\": \"low_rating\",\n      \"properties\": {\n        \"dtype\": \"number\",\n        \"std\": 0,\n        \"min\": 0,\n        \"max\": 1,\n        \"num_unique_values\": 2,\n        \"samples\": [\n          0\n        ],\n        \"semantic_type\": \"\",\n        \"description\": \"\"\n      }\n    },\n    {\n      \"column\": \"text_polarity\",\n      \"properties\": {\n        \"dtype\": \"number\",\n        \"std\": 0.23871522785824115,\n        \"min\": -1.0,\n        \"max\": 1.0,\n        \"num_unique_values\": 28498,\n        \"samples\": [\n          -0.033333333333333354\n        ],\n        \"semantic_type\": \"\",\n        \"description\": \"\"\n      }\n    },\n    {\n      \"column\": \"text_subjectivity\",\n      \"properties\": {\n        \"dtype\": \"number\",\n        \"std\": 0.1370176166527801,\n        \"min\": 0.0,\n        \"max\": 1.0,\n        \"num_unique_values\": 22959,\n        \"samples\": [\n          0.48888888888888876\n        ],\n        \"semantic_type\": \"\",\n        \"description\": \"\"\n      }\n    }\n  ]\n}"
            }
          },
          "metadata": {},
          "execution_count": 16
        }
      ]
    },
    {
      "cell_type": "code",
      "source": [],
      "metadata": {
        "id": "sbtVKVTfu8Ti"
      },
      "execution_count": null,
      "outputs": []
    },
    {
      "cell_type": "markdown",
      "source": [
        "# **`preprocesing steps`**"
      ],
      "metadata": {
        "id": "NbvRH4m7u1TO"
      }
    },
    {
      "cell_type": "code",
      "source": [
        "### REmove HTML\n",
        "review_text= BeautifulSoup(data.text[0]).get_text()\n",
        "print (review_text)"
      ],
      "metadata": {
        "colab": {
          "base_uri": "https://localhost:8080/"
        },
        "id": "oV7Cf3aBzQd5",
        "outputId": "f86231fe-7630-434f-a12d-69a0f2e354d6"
      },
      "execution_count": null,
      "outputs": [
        {
          "output_type": "stream",
          "name": "stdout",
          "text": [
            "Total bill for this horrible service? Over $8Gs. These crooks actually had the nerve to charge us $69 for 3 pills. I checked online the pills can be had for 19 cents EACH! Avoid Hospital ERs at all costs.\n"
          ]
        }
      ]
    },
    {
      "source": [
        "def preprocess_text(text):\n",
        "    # Clean the text\n",
        "    cleaned_text = re.sub(\"[^a-zA-Z]\", \" \", text)\n",
        "    cleaned_text = cleaned_text.lower().split()\n",
        "\n",
        "    # Remove stopwords\n",
        "    stops = set(stopwords.words(\"english\"))\n",
        "    cleaned_text = [w for w in cleaned_text if not w in stops]\n",
        "\n",
        "    # Stem the words\n",
        "    stemmer = PorterStemmer()\n",
        "    cleaned_text = [stemmer.stem(word) for word in cleaned_text]\n",
        "\n",
        "    return \" \".join(cleaned_text)"
      ],
      "cell_type": "code",
      "metadata": {
        "id": "-SbuAFDcmSVw"
      },
      "execution_count": null,
      "outputs": []
    },
    {
      "source": [
        "data['cleaned_text'] = data['text'].apply(preprocess_text)\n",
        "print(data['cleaned_text'])"
      ],
      "cell_type": "code",
      "metadata": {
        "colab": {
          "base_uri": "https://localhost:8080/"
        },
        "id": "BwqzAuRxmVyD",
        "outputId": "3f7fc17b-c821-4cdc-d449-7fd273399664"
      },
      "execution_count": null,
      "outputs": [
        {
          "output_type": "stream",
          "name": "stdout",
          "text": [
            "0        total bill horribl servic gs crook actual nerv...\n",
            "1        ador travi hard rock new kelli cardena salon a...\n",
            "2        say offic realli togeth organ friendli dr j ph...\n",
            "3        went lunch steak sandwich delici caesar salad ...\n",
            "4        today second three session paid although first...\n",
            "                               ...                        \n",
            "44525    petit caf sympa peu de place assis bonn bouff ...\n",
            "44526    absolut delici food full amaz flavor owner qui...\n",
            "44527    love place alway cutest dress usual pretti che...\n",
            "44528    would understand hour wait food someth actual ...\n",
            "44529    best place sport event servic locat amaz great...\n",
            "Name: cleaned_text, Length: 44530, dtype: object\n"
          ]
        }
      ]
    },
    {
      "cell_type": "code",
      "source": [
        "from sklearn.feature_extraction.text import TfidfVectorizer\n",
        "\n",
        "tfidf_vectorizer = TfidfVectorizer(max_features=1000) # You can adjust max_features as needed\n",
        "X = tfidf_vectorizer.fit_transform(data['cleaned_text'])\n",
        "y = data['sentiment']\n"
      ],
      "metadata": {
        "id": "D2L-Zd8g4tby"
      },
      "execution_count": null,
      "outputs": []
    },
    {
      "cell_type": "code",
      "source": [
        "X\n"
      ],
      "metadata": {
        "colab": {
          "base_uri": "https://localhost:8080/"
        },
        "id": "MyQhqLpt5JTG",
        "outputId": "0bfafc00-b768-4237-d1a4-28984916c756"
      },
      "execution_count": null,
      "outputs": [
        {
          "output_type": "execute_result",
          "data": {
            "text/plain": [
              "<44530x1000 sparse matrix of type '<class 'numpy.float64'>'\n",
              "\twith 1447293 stored elements in Compressed Sparse Row format>"
            ]
          },
          "metadata": {},
          "execution_count": 32
        }
      ]
    },
    {
      "cell_type": "code",
      "source": [
        "y"
      ],
      "metadata": {
        "colab": {
          "base_uri": "https://localhost:8080/"
        },
        "id": "uvv3JISl5QFh",
        "outputId": "44608b7a-0470-4cfb-a3a2-34db743a8f27"
      },
      "execution_count": null,
      "outputs": [
        {
          "output_type": "execute_result",
          "data": {
            "text/plain": [
              "0        0\n",
              "1        1\n",
              "2        1\n",
              "3        1\n",
              "4        0\n",
              "        ..\n",
              "44525    1\n",
              "44526    1\n",
              "44527    1\n",
              "44528    0\n",
              "44529    1\n",
              "Name: sentiment, Length: 44530, dtype: int8"
            ]
          },
          "metadata": {},
          "execution_count": 33
        }
      ]
    },
    {
      "source": [
        "from sklearn.model_selection import train_test_split\n",
        "from imblearn.over_sampling import SMOTE"
      ],
      "cell_type": "code",
      "metadata": {
        "id": "KgHCftC9nPcF"
      },
      "execution_count": null,
      "outputs": []
    },
    {
      "source": [
        "X_train, X_test, y_train, y_test = train_test_split(X, y, test_size=0.2, random_state=42)\n",
        "# Instantiate SMOTE\n",
        "smote = SMOTE(random_state=42)\n",
        "\n",
        "# Apply SMOTE to the training data only\n",
        "X_train_balanced, y_train_balanced = smote.fit_resample(X_train, y_train)\n",
        "\n"
      ],
      "cell_type": "code",
      "metadata": {
        "id": "53HbXs5DnXd7"
      },
      "execution_count": null,
      "outputs": []
    },
    {
      "cell_type": "markdown",
      "source": [
        "\n",
        "\n",
        "# **---RandomForestClassifier**\n",
        "\n"
      ],
      "metadata": {
        "id": "cR54M9TSUzkO"
      }
    },
    {
      "cell_type": "code",
      "source": [
        "\n",
        "from sklearn.model_selection import train_test_split, cross_val_score\n",
        "from sklearn.ensemble import RandomForestClassifier\n",
        "from sklearn.feature_extraction.text import TfidfVectorizer\n",
        "from sklearn.metrics import accuracy_score, confusion_matrix, classification_report\n",
        "\n",
        "\n",
        "rf_classifier = RandomForestClassifier(n_estimators=50, random_state=42)\n",
        "rf_classifier.fit(X_train, y_train)\n",
        "\n",
        "# Evaluation\n",
        "y_pred = rf_classifier.predict(X_test)\n",
        "accuracy = accuracy_score(y_test, y_pred)\n",
        "print(\"Accuracy:\", accuracy)\n",
        "\n",
        "\n",
        "\n",
        "\n",
        "# Confusion matrix\n",
        "conf_matrix = confusion_matrix(y_test, y_pred)\n",
        "plt.figure(figsize=(8, 6))\n",
        "sns.heatmap(conf_matrix, annot=True, fmt=\"d\", cmap=\"Blues\", xticklabels=['Unsatisfied', 'Satisfied'], yticklabels=['Unsatisfied', 'Satisfied'])\n",
        "plt.xlabel('Predicted')\n",
        "plt.ylabel('Actual')\n",
        "plt.title('Confusion Matrix')\n",
        "plt.show()\n",
        "\n",
        "\n",
        "\n",
        "# Cross-validation\n",
        "cv_scores = cross_val_score(rf_classifier, X, y, cv=5)\n",
        "print(\"Cross-validation Scores:\", cv_scores)\n",
        "print(\"Mean CV Accuracy:\", cv_scores.mean())\n"
      ],
      "metadata": {
        "colab": {
          "base_uri": "https://localhost:8080/",
          "height": 621
        },
        "id": "-6IdqOW2n40y",
        "outputId": "f3814794-d7c4-49bf-918b-1d01ad9453b7"
      },
      "execution_count": null,
      "outputs": [
        {
          "output_type": "stream",
          "name": "stdout",
          "text": [
            "Accuracy: 0.8997305187514035\n"
          ]
        },
        {
          "output_type": "display_data",
          "data": {
            "text/plain": [
              "<Figure size 800x600 with 2 Axes>"
            ],
            "image/png": "[encoded data removed]"
          },
          "metadata": {}
        },
        {
          "output_type": "stream",
          "name": "stdout",
          "text": [
            "Cross-validation Scores: [0.90208848 0.9074781  0.89928138 0.90287447 0.90343589]\n",
            "Mean CV Accuracy: 0.9030316640467102\n"
          ]
        }
      ]
    },
    {
      "cell_type": "markdown",
      "source": [
        "# **XGBClassifier**"
      ],
      "metadata": {
        "id": "34aEOxpsqss0"
      }
    },
    {
      "cell_type": "code",
      "source": [
        "from sklearn.model_selection import train_test_split, cross_val_score\n",
        "from xgboost import XGBClassifier\n",
        "from sklearn.metrics import accuracy_score, confusion_matrix, classification_report\n",
        "import matplotlib.pyplot as plt\n",
        "import seaborn as sns\n",
        "\n",
        "\n",
        "# Model building\n",
        "xgb_classifier = XGBClassifier()\n",
        "xgb_classifier.fit(X_train, y_train)\n",
        "\n",
        "# Evaluation\n",
        "y_pred = xgb_classifier.predict(X_test)\n",
        "accuracy = accuracy_score(y_test, y_pred)\n",
        "print(\"Accuracy:\", accuracy)\n",
        "\n",
        "# Confusion matrix\n",
        "conf_matrix = confusion_matrix(y_test, y_pred)\n",
        "plt.figure(figsize=(8, 6))\n",
        "sns.heatmap(conf_matrix, annot=True, fmt=\"d\", cmap=\"Blues\", xticklabels=['Unsatisfied', 'Satisfied'], yticklabels=['Unsatisfied', 'Satisfied'])\n",
        "plt.xlabel('Predicted')\n",
        "plt.ylabel('Actual')\n",
        "plt.title('Confusion Matrix')\n",
        "plt.show()\n",
        "\n",
        "# Classification report\n",
        "print(classification_report(y_test, y_pred))\n",
        "\n",
        "#Cross-validation\n",
        "cv_scores = cross_val_score(xgb_classifier, X, y, cv=5)\n",
        "print(\"Cross-validation Scores:\")\n",
        "print(cv_scores)\n",
        "print(\"Mean CV Score:\", np.mean(cv_scores))"
      ],
      "metadata": {
        "colab": {
          "base_uri": "https://localhost:8080/",
          "height": 795
        },
        "id": "dRPx7Lb-qiki",
        "outputId": "a4ba4bc7-b29a-47fe-e2aa-3a2ccb6bd3af"
      },
      "execution_count": null,
      "outputs": [
        {
          "output_type": "stream",
          "name": "stdout",
          "text": [
            "Accuracy: 0.9182573545924096\n"
          ]
        },
        {
          "output_type": "display_data",
          "data": {
            "text/plain": [
              "<Figure size 800x600 with 2 Axes>"
            ],
            "image/png": "[encoded data removed]"
          },
          "metadata": {}
        },
        {
          "output_type": "stream",
          "name": "stdout",
          "text": [
            "              precision    recall  f1-score   support\n",
            "\n",
            "           0       0.89      0.78      0.83      2273\n",
            "           1       0.93      0.97      0.95      6633\n",
            "\n",
            "    accuracy                           0.92      8906\n",
            "   macro avg       0.91      0.87      0.89      8906\n",
            "weighted avg       0.92      0.92      0.92      8906\n",
            "\n",
            "Cross-validation Scores:\n",
            "[0.91545026 0.92106445 0.91488884 0.91825735 0.92162587]\n",
            "Mean CV Score: 0.9182573545924096\n"
          ]
        }
      ]
    },
    {
      "cell_type": "markdown",
      "source": [
        "### Reasons to Choose XGBoost\n",
        "\n",
        "1. **High Performance**: XGBoost is optimized for performance and efficiency, making it faster than traditional gradient boosting implementations.\n",
        "\n",
        "2. **Regularization**: It includes L1 and L2 regularization techniques to prevent overfitting and improve model generalization.\n",
        "\n",
        "3. **Flexibility**: XGBoost can handle various data types, including numerical and categorical features, and supports different loss functions and evaluation metrics.\n",
        "\n",
        "4. **Feature Importance**: Provides a built-in feature importance score to identify relevant features, aiding in feature selection and understanding model behavior.\n",
        "\n",
        "5. **Handling Missing Values**: XGBoost has capabilities to handle missing values in the dataset, reducing the need for preprocessing.\n"
      ],
      "metadata": {
        "id": "EkLTWYXbysN7"
      }
    },
    {
      "cell_type": "markdown",
      "source": [
        "### Model Evaluation Summary\n",
        "\n",
        "- **Accuracy:** 91.83%\n",
        "\n",
        "|     | Precision | Recall | F1-score | Support |\n",
        "| --- | --------- | ------ | -------- | ------- |\n",
        "| 0   | 0.89      | 0.78   | 0.83     | 2273    |\n",
        "| 1   | 0.93      | 0.97   | 0.95     | 6633    |\n",
        "|     |           |        |          |         |\n",
        "| **Cross-validation Scores:** | 0.915, 0.921, 0.915, 0.918, 0.922 |\n",
        "| **Mean CV Score:** | 0.918 |\n",
        "\n",
        "- **Precision**:\n",
        "  - Class 0 (Unhappy customers): 89%\n",
        "  - Class 1 (Happy customers): 93%\n",
        "\n",
        "- **Recall**:\n",
        "  - Class 0 (Unhappy customers): 78%\n",
        "  - Class 1 (Happy customers): 97%\n",
        "\n",
        "- **F1-score**:\n",
        "  - Class 0 (Unhappy customers): 0.83\n",
        "  - Class 1 (Happy customers): 0.95\n",
        "\n",
        "- **Support**:\n",
        "  - Class 0 (Unhappy customers): 2273\n",
        "  - Class 1 (Happy customers): 6633\n"
      ],
      "metadata": {
        "id": "FFRYBx3Wy75z"
      }
    },
    {
      "cell_type": "markdown",
      "source": [
        "### Model Evaluation Summary\n",
        "\n",
        "- **Accuracy:** The model achieved an accuracy of 91.83%.\n",
        "- **Precision and Recall:** For unhappy customers (Class 0), the precision is 89% and the recall is 78%. For happy customers (Class 1), the precision is 93% and the recall is 97%.\n",
        "- **F1-score:** The F1-score for unhappy customers is 0.83, and for happy customers, it is 0.95.\n",
        "- **Support:** There are 2273 instances of unhappy customers and 6633 instances of happy customers in the test dataset.\n",
        "- **Cross-validation Scores:** The cross-validation scores range from 0.915 to 0.922, with a mean cross-validation score of approximately 0.918.\n"
      ],
      "metadata": {
        "id": "z5CArP-My83a"
      }
    },
    {
      "cell_type": "code",
      "source": [],
      "metadata": {
        "id": "7ms-AxjPzDa0"
      },
      "execution_count": null,
      "outputs": []
    }
  ],
  "metadata": {
    "colab": {
      "provenance": [],
      "gpuType": "T4",
      "include_colab_link": true
    },
    "kernelspec": {
      "display_name": "Python 3",
      "name": "python3"
    },
    "accelerator": "GPU"
  },
  "nbformat": 4,
  "nbformat_minor": 0
}